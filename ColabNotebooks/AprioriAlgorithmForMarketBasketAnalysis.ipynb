{
 "cells": [
  {
   "cell_type": "markdown",
   "metadata": {
    "id": "ORNwB_glBkoi"
   },
   "source": [
    "Name : Chaitanya Machhindra Nawale\n",
    "\n",
    "Roll No : BECOB215"
   ]
  },
  {
   "cell_type": "markdown",
   "metadata": {
    "id": "jmzeaot2Bkok"
   },
   "source": [
    "Problem Statement : Apply a-priori algorithm to find frequently occurring items from given data and generate\n",
    "strong association rules using support and confidence thresholds.\n",
    "For Example: Market Basket Analysis"
   ]
  },
  {
   "cell_type": "markdown",
   "metadata": {
    "id": "VrQagNzwBkom"
   },
   "source": [
    "\n",
    "Code :"
   ]
  },
  {
   "cell_type": "code",
   "execution_count": 1,
   "metadata": {
    "executionInfo": {
     "elapsed": 1502,
     "status": "ok",
     "timestamp": 1605024117581,
     "user": {
      "displayName": "BECOB215_Chaitanya Nawale",
      "photoUrl": "https://lh3.googleusercontent.com/a-/AOh14GjhKqWv9qcStDLwkyGI6scR2kNaLpB8gZIEdb94Pa4=s64",
      "userId": "02869966683308518083"
     },
     "user_tz": -330
    },
    "id": "e3aKQHanBkoo"
   },
   "outputs": [],
   "source": [
    "import numpy as np\n",
    "import pandas as pd\n",
    "from mlxtend.frequent_patterns import apriori, association_rules"
   ]
  },
  {
   "cell_type": "code",
   "execution_count": null,
   "metadata": {
    "colab": {
     "base_uri": "https://localhost:8080/"
    },
    "executionInfo": {
     "elapsed": 71708,
     "status": "ok",
     "timestamp": 1605024187801,
     "user": {
      "displayName": "BECOB215_Chaitanya Nawale",
      "photoUrl": "https://lh3.googleusercontent.com/a-/AOh14GjhKqWv9qcStDLwkyGI6scR2kNaLpB8gZIEdb94Pa4=s64",
      "userId": "02869966683308518083"
     },
     "user_tz": -330
    },
    "id": "5Cf_L6gfBkox",
    "outputId": "97184c20-435e-4ee6-c77e-35cec4d1158c"
   },
   "outputs": [
    {
     "name": "stdout",
     "output_type": "stream",
     "text": [
      "Mounted at /content/drive\n"
     ]
    }
   ],
   "source": [
    "from google.colab import drive\n",
    "drive.mount('/content/drive')\n",
    "data = pd.read_excel('/content/drive/My Drive/Online Retail.xlsx')\n",
    "\n"
   ]
  },
  {
   "cell_type": "code",
   "execution_count": 3,
   "metadata": {
    "colab": {
     "base_uri": "https://localhost:8080/",
     "height": 195
    },
    "executionInfo": {
     "elapsed": 71707,
     "status": "ok",
     "timestamp": 1605024187805,
     "user": {
      "displayName": "BECOB215_Chaitanya Nawale",
      "photoUrl": "https://lh3.googleusercontent.com/a-/AOh14GjhKqWv9qcStDLwkyGI6scR2kNaLpB8gZIEdb94Pa4=s64",
      "userId": "02869966683308518083"
     },
     "user_tz": -330
    },
    "id": "PAMuO0_8Bko5",
    "outputId": "24ef1a88-8c76-49da-d2cd-6706a82ed2ae"
   },
   "outputs": [
    {
     "data": {
      "text/html": [
       "<div>\n",
       "<style scoped>\n",
       "    .dataframe tbody tr th:only-of-type {\n",
       "        vertical-align: middle;\n",
       "    }\n",
       "\n",
       "    .dataframe tbody tr th {\n",
       "        vertical-align: top;\n",
       "    }\n",
       "\n",
       "    .dataframe thead th {\n",
       "        text-align: right;\n",
       "    }\n",
       "</style>\n",
       "<table border=\"1\" class=\"dataframe\">\n",
       "  <thead>\n",
       "    <tr style=\"text-align: right;\">\n",
       "      <th></th>\n",
       "      <th>InvoiceNo</th>\n",
       "      <th>StockCode</th>\n",
       "      <th>Description</th>\n",
       "      <th>Quantity</th>\n",
       "      <th>InvoiceDate</th>\n",
       "      <th>UnitPrice</th>\n",
       "      <th>CustomerID</th>\n",
       "      <th>Country</th>\n",
       "    </tr>\n",
       "  </thead>\n",
       "  <tbody>\n",
       "    <tr>\n",
       "      <th>0</th>\n",
       "      <td>536365</td>\n",
       "      <td>85123A</td>\n",
       "      <td>WHITE HANGING HEART T-LIGHT HOLDER</td>\n",
       "      <td>6</td>\n",
       "      <td>2010-12-01 08:26:00</td>\n",
       "      <td>2.55</td>\n",
       "      <td>17850.0</td>\n",
       "      <td>United Kingdom</td>\n",
       "    </tr>\n",
       "    <tr>\n",
       "      <th>1</th>\n",
       "      <td>536365</td>\n",
       "      <td>71053</td>\n",
       "      <td>WHITE METAL LANTERN</td>\n",
       "      <td>6</td>\n",
       "      <td>2010-12-01 08:26:00</td>\n",
       "      <td>3.39</td>\n",
       "      <td>17850.0</td>\n",
       "      <td>United Kingdom</td>\n",
       "    </tr>\n",
       "    <tr>\n",
       "      <th>2</th>\n",
       "      <td>536365</td>\n",
       "      <td>84406B</td>\n",
       "      <td>CREAM CUPID HEARTS COAT HANGER</td>\n",
       "      <td>8</td>\n",
       "      <td>2010-12-01 08:26:00</td>\n",
       "      <td>2.75</td>\n",
       "      <td>17850.0</td>\n",
       "      <td>United Kingdom</td>\n",
       "    </tr>\n",
       "    <tr>\n",
       "      <th>3</th>\n",
       "      <td>536365</td>\n",
       "      <td>84029G</td>\n",
       "      <td>KNITTED UNION FLAG HOT WATER BOTTLE</td>\n",
       "      <td>6</td>\n",
       "      <td>2010-12-01 08:26:00</td>\n",
       "      <td>3.39</td>\n",
       "      <td>17850.0</td>\n",
       "      <td>United Kingdom</td>\n",
       "    </tr>\n",
       "    <tr>\n",
       "      <th>4</th>\n",
       "      <td>536365</td>\n",
       "      <td>84029E</td>\n",
       "      <td>RED WOOLLY HOTTIE WHITE HEART.</td>\n",
       "      <td>6</td>\n",
       "      <td>2010-12-01 08:26:00</td>\n",
       "      <td>3.39</td>\n",
       "      <td>17850.0</td>\n",
       "      <td>United Kingdom</td>\n",
       "    </tr>\n",
       "  </tbody>\n",
       "</table>\n",
       "</div>"
      ],
      "text/plain": [
       "  InvoiceNo StockCode  ... CustomerID         Country\n",
       "0    536365    85123A  ...    17850.0  United Kingdom\n",
       "1    536365     71053  ...    17850.0  United Kingdom\n",
       "2    536365    84406B  ...    17850.0  United Kingdom\n",
       "3    536365    84029G  ...    17850.0  United Kingdom\n",
       "4    536365    84029E  ...    17850.0  United Kingdom\n",
       "\n",
       "[5 rows x 8 columns]"
      ]
     },
     "execution_count": 3,
     "metadata": {
      "tags": []
     },
     "output_type": "execute_result"
    }
   ],
   "source": [
    "data.head()"
   ]
  },
  {
   "cell_type": "code",
   "execution_count": 4,
   "metadata": {
    "colab": {
     "base_uri": "https://localhost:8080/"
    },
    "executionInfo": {
     "elapsed": 71703,
     "status": "ok",
     "timestamp": 1605024187806,
     "user": {
      "displayName": "BECOB215_Chaitanya Nawale",
      "photoUrl": "https://lh3.googleusercontent.com/a-/AOh14GjhKqWv9qcStDLwkyGI6scR2kNaLpB8gZIEdb94Pa4=s64",
      "userId": "02869966683308518083"
     },
     "user_tz": -330
    },
    "id": "Ouc_4DlKBkpC",
    "outputId": "0e26004c-70da-4582-f426-d3e9f6f28c90"
   },
   "outputs": [
    {
     "data": {
      "text/plain": [
       "Index(['InvoiceNo', 'StockCode', 'Description', 'Quantity', 'InvoiceDate',\n",
       "       'UnitPrice', 'CustomerID', 'Country'],\n",
       "      dtype='object')"
      ]
     },
     "execution_count": 4,
     "metadata": {
      "tags": []
     },
     "output_type": "execute_result"
    }
   ],
   "source": [
    "data.columns"
   ]
  },
  {
   "cell_type": "code",
   "execution_count": 5,
   "metadata": {
    "colab": {
     "base_uri": "https://localhost:8080/"
    },
    "executionInfo": {
     "elapsed": 71698,
     "status": "ok",
     "timestamp": 1605024187806,
     "user": {
      "displayName": "BECOB215_Chaitanya Nawale",
      "photoUrl": "https://lh3.googleusercontent.com/a-/AOh14GjhKqWv9qcStDLwkyGI6scR2kNaLpB8gZIEdb94Pa4=s64",
      "userId": "02869966683308518083"
     },
     "user_tz": -330
    },
    "id": "IUtKILBEBkpJ",
    "outputId": "dbcaf84a-ac77-4a3b-a753-bae7ada47ae7"
   },
   "outputs": [
    {
     "data": {
      "text/plain": [
       "(541909, 8)"
      ]
     },
     "execution_count": 5,
     "metadata": {
      "tags": []
     },
     "output_type": "execute_result"
    }
   ],
   "source": [
    "data.shape"
   ]
  },
  {
   "cell_type": "code",
   "execution_count": 24,
   "metadata": {
    "colab": {
     "base_uri": "https://localhost:8080/"
    },
    "executionInfo": {
     "elapsed": 3431,
     "status": "ok",
     "timestamp": 1605030677821,
     "user": {
      "displayName": "BECOB215_Chaitanya Nawale",
      "photoUrl": "https://lh3.googleusercontent.com/a-/AOh14GjhKqWv9qcStDLwkyGI6scR2kNaLpB8gZIEdb94Pa4=s64",
      "userId": "02869966683308518083"
     },
     "user_tz": -330
    },
    "id": "2S5-R_orBkpR",
    "outputId": "fc07b123-5d94-4c8c-d9eb-2fe1d4fd676a"
   },
   "outputs": [
    {
     "data": {
      "text/plain": [
       "True"
      ]
     },
     "execution_count": 24,
     "metadata": {
      "tags": []
     },
     "output_type": "execute_result"
    }
   ],
   "source": [
    "data.isnull().values.any()"
   ]
  },
  {
   "cell_type": "code",
   "execution_count": 7,
   "metadata": {
    "colab": {
     "base_uri": "https://localhost:8080/"
    },
    "executionInfo": {
     "elapsed": 71691,
     "status": "ok",
     "timestamp": 1605024187807,
     "user": {
      "displayName": "BECOB215_Chaitanya Nawale",
      "photoUrl": "https://lh3.googleusercontent.com/a-/AOh14GjhKqWv9qcStDLwkyGI6scR2kNaLpB8gZIEdb94Pa4=s64",
      "userId": "02869966683308518083"
     },
     "user_tz": -330
    },
    "id": "m_easOMdBkpZ",
    "outputId": "8dbfc57b-839b-4b86-fdee-7b96edace7f2"
   },
   "outputs": [
    {
     "data": {
      "text/plain": [
       "InvoiceNo           0\n",
       "StockCode           0\n",
       "Description      1454\n",
       "Quantity            0\n",
       "InvoiceDate         0\n",
       "UnitPrice           0\n",
       "CustomerID     135080\n",
       "Country             0\n",
       "dtype: int64"
      ]
     },
     "execution_count": 7,
     "metadata": {
      "tags": []
     },
     "output_type": "execute_result"
    }
   ],
   "source": [
    "data.isnull().sum()"
   ]
  },
  {
   "cell_type": "code",
   "execution_count": 8,
   "metadata": {
    "executionInfo": {
     "elapsed": 73452,
     "status": "ok",
     "timestamp": 1605024189570,
     "user": {
      "displayName": "BECOB215_Chaitanya Nawale",
      "photoUrl": "https://lh3.googleusercontent.com/a-/AOh14GjhKqWv9qcStDLwkyGI6scR2kNaLpB8gZIEdb94Pa4=s64",
      "userId": "02869966683308518083"
     },
     "user_tz": -330
    },
    "id": "P32EBi4fBkph"
   },
   "outputs": [],
   "source": [
    "#data cleaning\n",
    "data['Description']=data['Description'].str.strip()\n",
    "data.dropna(axis=0,subset=['InvoiceNo'],inplace=True)\n",
    "data['InvoiceNo']=data['InvoiceNo'].astype('str')\n",
    "data=data[~data['InvoiceNo'].str.contains('C')]"
   ]
  },
  {
   "cell_type": "code",
   "execution_count": 9,
   "metadata": {
    "colab": {
     "base_uri": "https://localhost:8080/",
     "height": 195
    },
    "executionInfo": {
     "elapsed": 73451,
     "status": "ok",
     "timestamp": 1605024189574,
     "user": {
      "displayName": "BECOB215_Chaitanya Nawale",
      "photoUrl": "https://lh3.googleusercontent.com/a-/AOh14GjhKqWv9qcStDLwkyGI6scR2kNaLpB8gZIEdb94Pa4=s64",
      "userId": "02869966683308518083"
     },
     "user_tz": -330
    },
    "id": "RpI1fYQBBkpo",
    "outputId": "7bd75fdd-a124-4b4c-d787-7ca46bcff657"
   },
   "outputs": [
    {
     "data": {
      "text/html": [
       "<div>\n",
       "<style scoped>\n",
       "    .dataframe tbody tr th:only-of-type {\n",
       "        vertical-align: middle;\n",
       "    }\n",
       "\n",
       "    .dataframe tbody tr th {\n",
       "        vertical-align: top;\n",
       "    }\n",
       "\n",
       "    .dataframe thead th {\n",
       "        text-align: right;\n",
       "    }\n",
       "</style>\n",
       "<table border=\"1\" class=\"dataframe\">\n",
       "  <thead>\n",
       "    <tr style=\"text-align: right;\">\n",
       "      <th></th>\n",
       "      <th>InvoiceNo</th>\n",
       "      <th>StockCode</th>\n",
       "      <th>Description</th>\n",
       "      <th>Quantity</th>\n",
       "      <th>InvoiceDate</th>\n",
       "      <th>UnitPrice</th>\n",
       "      <th>CustomerID</th>\n",
       "      <th>Country</th>\n",
       "    </tr>\n",
       "  </thead>\n",
       "  <tbody>\n",
       "    <tr>\n",
       "      <th>0</th>\n",
       "      <td>536365</td>\n",
       "      <td>85123A</td>\n",
       "      <td>WHITE HANGING HEART T-LIGHT HOLDER</td>\n",
       "      <td>6</td>\n",
       "      <td>2010-12-01 08:26:00</td>\n",
       "      <td>2.55</td>\n",
       "      <td>17850.0</td>\n",
       "      <td>United Kingdom</td>\n",
       "    </tr>\n",
       "    <tr>\n",
       "      <th>1</th>\n",
       "      <td>536365</td>\n",
       "      <td>71053</td>\n",
       "      <td>WHITE METAL LANTERN</td>\n",
       "      <td>6</td>\n",
       "      <td>2010-12-01 08:26:00</td>\n",
       "      <td>3.39</td>\n",
       "      <td>17850.0</td>\n",
       "      <td>United Kingdom</td>\n",
       "    </tr>\n",
       "    <tr>\n",
       "      <th>2</th>\n",
       "      <td>536365</td>\n",
       "      <td>84406B</td>\n",
       "      <td>CREAM CUPID HEARTS COAT HANGER</td>\n",
       "      <td>8</td>\n",
       "      <td>2010-12-01 08:26:00</td>\n",
       "      <td>2.75</td>\n",
       "      <td>17850.0</td>\n",
       "      <td>United Kingdom</td>\n",
       "    </tr>\n",
       "    <tr>\n",
       "      <th>3</th>\n",
       "      <td>536365</td>\n",
       "      <td>84029G</td>\n",
       "      <td>KNITTED UNION FLAG HOT WATER BOTTLE</td>\n",
       "      <td>6</td>\n",
       "      <td>2010-12-01 08:26:00</td>\n",
       "      <td>3.39</td>\n",
       "      <td>17850.0</td>\n",
       "      <td>United Kingdom</td>\n",
       "    </tr>\n",
       "    <tr>\n",
       "      <th>4</th>\n",
       "      <td>536365</td>\n",
       "      <td>84029E</td>\n",
       "      <td>RED WOOLLY HOTTIE WHITE HEART.</td>\n",
       "      <td>6</td>\n",
       "      <td>2010-12-01 08:26:00</td>\n",
       "      <td>3.39</td>\n",
       "      <td>17850.0</td>\n",
       "      <td>United Kingdom</td>\n",
       "    </tr>\n",
       "  </tbody>\n",
       "</table>\n",
       "</div>"
      ],
      "text/plain": [
       "  InvoiceNo StockCode  ... CustomerID         Country\n",
       "0    536365    85123A  ...    17850.0  United Kingdom\n",
       "1    536365     71053  ...    17850.0  United Kingdom\n",
       "2    536365    84406B  ...    17850.0  United Kingdom\n",
       "3    536365    84029G  ...    17850.0  United Kingdom\n",
       "4    536365    84029E  ...    17850.0  United Kingdom\n",
       "\n",
       "[5 rows x 8 columns]"
      ]
     },
     "execution_count": 9,
     "metadata": {
      "tags": []
     },
     "output_type": "execute_result"
    }
   ],
   "source": [
    "data.head()"
   ]
  },
  {
   "cell_type": "code",
   "execution_count": 10,
   "metadata": {
    "colab": {
     "base_uri": "https://localhost:8080/"
    },
    "executionInfo": {
     "elapsed": 73448,
     "status": "ok",
     "timestamp": 1605024189575,
     "user": {
      "displayName": "BECOB215_Chaitanya Nawale",
      "photoUrl": "https://lh3.googleusercontent.com/a-/AOh14GjhKqWv9qcStDLwkyGI6scR2kNaLpB8gZIEdb94Pa4=s64",
      "userId": "02869966683308518083"
     },
     "user_tz": -330
    },
    "id": "Msna__09Bkpt",
    "outputId": "554c7310-5001-41fd-81a1-41e20cd154bb"
   },
   "outputs": [
    {
     "data": {
      "text/plain": [
       "United Kingdom          487622\n",
       "Germany                   9042\n",
       "France                    8408\n",
       "EIRE                      7894\n",
       "Spain                     2485\n",
       "Netherlands               2363\n",
       "Belgium                   2031\n",
       "Switzerland               1967\n",
       "Portugal                  1501\n",
       "Australia                 1185\n",
       "Norway                    1072\n",
       "Italy                      758\n",
       "Channel Islands            748\n",
       "Finland                    685\n",
       "Cyprus                     614\n",
       "Sweden                     451\n",
       "Unspecified                446\n",
       "Austria                    398\n",
       "Denmark                    380\n",
       "Poland                     330\n",
       "Japan                      321\n",
       "Israel                     295\n",
       "Hong Kong                  284\n",
       "Singapore                  222\n",
       "Iceland                    182\n",
       "USA                        179\n",
       "Canada                     151\n",
       "Greece                     145\n",
       "Malta                      112\n",
       "United Arab Emirates        68\n",
       "European Community          60\n",
       "RSA                         58\n",
       "Lebanon                     45\n",
       "Lithuania                   35\n",
       "Brazil                      32\n",
       "Czech Republic              25\n",
       "Bahrain                     18\n",
       "Saudi Arabia                 9\n",
       "Name: Country, dtype: int64"
      ]
     },
     "execution_count": 10,
     "metadata": {
      "tags": []
     },
     "output_type": "execute_result"
    }
   ],
   "source": [
    "data['Country'].value_counts()"
   ]
  },
  {
   "cell_type": "code",
   "execution_count": 11,
   "metadata": {
    "colab": {
     "base_uri": "https://localhost:8080/"
    },
    "executionInfo": {
     "elapsed": 73443,
     "status": "ok",
     "timestamp": 1605024189575,
     "user": {
      "displayName": "BECOB215_Chaitanya Nawale",
      "photoUrl": "https://lh3.googleusercontent.com/a-/AOh14GjhKqWv9qcStDLwkyGI6scR2kNaLpB8gZIEdb94Pa4=s64",
      "userId": "02869966683308518083"
     },
     "user_tz": -330
    },
    "id": "7VpVmQXEBkpx",
    "outputId": "e36a0335-b58e-4133-9024-b905e7f9bca5"
   },
   "outputs": [
    {
     "data": {
      "text/plain": [
       "array(['United Kingdom', 'France', 'Australia', 'Netherlands', 'Germany',\n",
       "       'Norway', 'EIRE', 'Switzerland', 'Spain', 'Poland', 'Portugal',\n",
       "       'Italy', 'Belgium', 'Lithuania', 'Japan', 'Iceland',\n",
       "       'Channel Islands', 'Denmark', 'Cyprus', 'Sweden', 'Finland',\n",
       "       'Austria', 'Bahrain', 'Israel', 'Greece', 'Hong Kong', 'Singapore',\n",
       "       'Lebanon', 'United Arab Emirates', 'Saudi Arabia',\n",
       "       'Czech Republic', 'Canada', 'Unspecified', 'Brazil', 'USA',\n",
       "       'European Community', 'Malta', 'RSA'], dtype=object)"
      ]
     },
     "execution_count": 11,
     "metadata": {
      "tags": []
     },
     "output_type": "execute_result"
    }
   ],
   "source": [
    "data.Country.unique()"
   ]
  },
  {
   "cell_type": "code",
   "execution_count": 12,
   "metadata": {
    "executionInfo": {
     "elapsed": 73442,
     "status": "ok",
     "timestamp": 1605024189576,
     "user": {
      "displayName": "BECOB215_Chaitanya Nawale",
      "photoUrl": "https://lh3.googleusercontent.com/a-/AOh14GjhKqWv9qcStDLwkyGI6scR2kNaLpB8gZIEdb94Pa4=s64",
      "userId": "02869966683308518083"
     },
     "user_tz": -330
    },
    "id": "T9ePDpSrBkp3"
   },
   "outputs": [],
   "source": [
    "#separating transactions for United Kingdom\n",
    "basket_Germany = (data[data['Country'] == \"Germany\"].groupby(['InvoiceNo','Description'])['Quantity'].sum().unstack().reset_index().fillna(0).set_index('InvoiceNo'))"
   ]
  },
  {
   "cell_type": "code",
   "execution_count": 13,
   "metadata": {
    "executionInfo": {
     "elapsed": 73441,
     "status": "ok",
     "timestamp": 1605024189576,
     "user": {
      "displayName": "BECOB215_Chaitanya Nawale",
      "photoUrl": "https://lh3.googleusercontent.com/a-/AOh14GjhKqWv9qcStDLwkyGI6scR2kNaLpB8gZIEdb94Pa4=s64",
      "userId": "02869966683308518083"
     },
     "user_tz": -330
    },
    "id": "vdq8x2FlBkp6"
   },
   "outputs": [],
   "source": [
    "#converting all<=0 values to 0 and >0 values to 1 \n",
    "def encode(x):\n",
    "    if x<=0:\n",
    "        return 0\n",
    "    if x>=1:\n",
    "        return 1\n",
    "    "
   ]
  },
  {
   "cell_type": "code",
   "execution_count": 14,
   "metadata": {
    "executionInfo": {
     "elapsed": 74096,
     "status": "ok",
     "timestamp": 1605024190233,
     "user": {
      "displayName": "BECOB215_Chaitanya Nawale",
      "photoUrl": "https://lh3.googleusercontent.com/a-/AOh14GjhKqWv9qcStDLwkyGI6scR2kNaLpB8gZIEdb94Pa4=s64",
      "userId": "02869966683308518083"
     },
     "user_tz": -330
    },
    "id": "IygKExMjBkp-"
   },
   "outputs": [],
   "source": [
    "basket_encoded = basket_Germany.applymap(encode)\n",
    "basket_Germany = basket_encoded"
   ]
  },
  {
   "cell_type": "code",
   "execution_count": 15,
   "metadata": {
    "colab": {
     "base_uri": "https://localhost:8080/",
     "height": 374
    },
    "executionInfo": {
     "elapsed": 74093,
     "status": "ok",
     "timestamp": 1605024190234,
     "user": {
      "displayName": "BECOB215_Chaitanya Nawale",
      "photoUrl": "https://lh3.googleusercontent.com/a-/AOh14GjhKqWv9qcStDLwkyGI6scR2kNaLpB8gZIEdb94Pa4=s64",
      "userId": "02869966683308518083"
     },
     "user_tz": -330
    },
    "id": "DeUji0I7BkqB",
    "outputId": "12b5587b-dad4-4e57-d9b7-78855e55e943"
   },
   "outputs": [
    {
     "data": {
      "text/html": [
       "<div>\n",
       "<style scoped>\n",
       "    .dataframe tbody tr th:only-of-type {\n",
       "        vertical-align: middle;\n",
       "    }\n",
       "\n",
       "    .dataframe tbody tr th {\n",
       "        vertical-align: top;\n",
       "    }\n",
       "\n",
       "    .dataframe thead th {\n",
       "        text-align: right;\n",
       "    }\n",
       "</style>\n",
       "<table border=\"1\" class=\"dataframe\">\n",
       "  <thead>\n",
       "    <tr style=\"text-align: right;\">\n",
       "      <th>Description</th>\n",
       "      <th>10 COLOUR SPACEBOY PEN</th>\n",
       "      <th>12 COLOURED PARTY BALLOONS</th>\n",
       "      <th>12 IVORY ROSE PEG PLACE SETTINGS</th>\n",
       "      <th>12 MESSAGE CARDS WITH ENVELOPES</th>\n",
       "      <th>12 PENCIL SMALL TUBE WOODLAND</th>\n",
       "      <th>12 PENCILS SMALL TUBE RED RETROSPOT</th>\n",
       "      <th>12 PENCILS SMALL TUBE SKULL</th>\n",
       "      <th>12 PENCILS TALL TUBE POSY</th>\n",
       "      <th>12 PENCILS TALL TUBE RED RETROSPOT</th>\n",
       "      <th>12 PENCILS TALL TUBE SKULLS</th>\n",
       "      <th>12 PENCILS TALL TUBE WOODLAND</th>\n",
       "      <th>12 PINK HEN+CHICKS IN BASKET</th>\n",
       "      <th>12 RED ROSE PEG PLACE SETTINGS</th>\n",
       "      <th>16 PIECE CUTLERY SET PANTRY DESIGN</th>\n",
       "      <th>2 PICTURE BOOK EGGS EASTER BUNNY</th>\n",
       "      <th>2 PICTURE BOOK EGGS EASTER CHICKS</th>\n",
       "      <th>20 DOLLY PEGS RETROSPOT</th>\n",
       "      <th>200 BENDY SKULL STRAWS</th>\n",
       "      <th>200 RED + WHITE BENDY STRAWS</th>\n",
       "      <th>3 DRAWER ANTIQUE WHITE WOOD CABINET</th>\n",
       "      <th>3 HOOK HANGER MAGIC GARDEN</th>\n",
       "      <th>3 HOOK PHOTO SHELF ANTIQUE WHITE</th>\n",
       "      <th>3 PIECE SPACEBOY COOKIE CUTTER SET</th>\n",
       "      <th>3 RAFFIA RIBBONS 50'S CHRISTMAS</th>\n",
       "      <th>3 STRIPEY MICE FELTCRAFT</th>\n",
       "      <th>3 TIER CAKE TIN GREEN AND CREAM</th>\n",
       "      <th>3 TIER CAKE TIN RED AND CREAM</th>\n",
       "      <th>3 TIER SWEETHEART GARDEN SHELF</th>\n",
       "      <th>3 TRADITIONAl BISCUIT CUTTERS  SET</th>\n",
       "      <th>36 DOILIES DOLLY GIRL</th>\n",
       "      <th>36 FOIL HEART CAKE CASES</th>\n",
       "      <th>36 FOIL STAR CAKE CASES</th>\n",
       "      <th>36 PENCILS TUBE RED RETROSPOT</th>\n",
       "      <th>36 PENCILS TUBE SKULLS</th>\n",
       "      <th>36 PENCILS TUBE WOODLAND</th>\n",
       "      <th>3D CHRISTMAS STAMPS STICKERS</th>\n",
       "      <th>3D TRADITIONAL CHRISTMAS STICKERS</th>\n",
       "      <th>3D VINTAGE CHRISTMAS STICKERS</th>\n",
       "      <th>4 LAVENDER BOTANICAL DINNER CANDLES</th>\n",
       "      <th>4 TRADITIONAL SPINNING TOPS</th>\n",
       "      <th>...</th>\n",
       "      <th>WRAP BAD HAIR DAY</th>\n",
       "      <th>WRAP BILLBOARD FONTS DESIGN</th>\n",
       "      <th>WRAP BIRD GARDEN</th>\n",
       "      <th>WRAP CAROUSEL</th>\n",
       "      <th>WRAP CHRISTMAS SCREEN PRINT</th>\n",
       "      <th>WRAP CIRCUS PARADE</th>\n",
       "      <th>WRAP COWBOYS</th>\n",
       "      <th>WRAP DOILEY DESIGN</th>\n",
       "      <th>WRAP DOLLY GIRL</th>\n",
       "      <th>WRAP ENGLISH ROSE</th>\n",
       "      <th>WRAP FLOWER SHOP</th>\n",
       "      <th>WRAP FOLK ART</th>\n",
       "      <th>WRAP GINGHAM ROSE</th>\n",
       "      <th>WRAP GREEN PEARS</th>\n",
       "      <th>WRAP I LOVE LONDON</th>\n",
       "      <th>WRAP MAGIC FOREST</th>\n",
       "      <th>WRAP MONSTER FUN</th>\n",
       "      <th>WRAP PAISLEY PARK</th>\n",
       "      <th>WRAP PINK FAIRY CAKES</th>\n",
       "      <th>WRAP POPPIES  DESIGN</th>\n",
       "      <th>WRAP RED APPLES</th>\n",
       "      <th>WRAP RED DOILEY</th>\n",
       "      <th>WRAP RED VINTAGE DOILY</th>\n",
       "      <th>WRAP SUKI AND FRIENDS</th>\n",
       "      <th>WRAP VINTAGE LEAF DESIGN</th>\n",
       "      <th>WRAP VINTAGE PETALS  DESIGN</th>\n",
       "      <th>WRAP WEDDING DAY</th>\n",
       "      <th>WRAP, BILLBOARD FONTS DESIGN</th>\n",
       "      <th>YELLOW COAT RACK PARIS FASHION</th>\n",
       "      <th>YOU'RE CONFUSING ME METAL SIGN</th>\n",
       "      <th>YULETIDE IMAGES GIFT WRAP SET</th>\n",
       "      <th>ZINC  HEART T-LIGHT HOLDER</th>\n",
       "      <th>ZINC  STAR T-LIGHT HOLDER</th>\n",
       "      <th>ZINC BOX SIGN HOME</th>\n",
       "      <th>ZINC FOLKART SLEIGH BELLS</th>\n",
       "      <th>ZINC HEART LATTICE T-LIGHT HOLDER</th>\n",
       "      <th>ZINC METAL HEART DECORATION</th>\n",
       "      <th>ZINC T-LIGHT HOLDER STAR LARGE</th>\n",
       "      <th>ZINC T-LIGHT HOLDER STARS SMALL</th>\n",
       "      <th>ZINC WILLIE WINKIE  CANDLE STICK</th>\n",
       "    </tr>\n",
       "    <tr>\n",
       "      <th>InvoiceNo</th>\n",
       "      <th></th>\n",
       "      <th></th>\n",
       "      <th></th>\n",
       "      <th></th>\n",
       "      <th></th>\n",
       "      <th></th>\n",
       "      <th></th>\n",
       "      <th></th>\n",
       "      <th></th>\n",
       "      <th></th>\n",
       "      <th></th>\n",
       "      <th></th>\n",
       "      <th></th>\n",
       "      <th></th>\n",
       "      <th></th>\n",
       "      <th></th>\n",
       "      <th></th>\n",
       "      <th></th>\n",
       "      <th></th>\n",
       "      <th></th>\n",
       "      <th></th>\n",
       "      <th></th>\n",
       "      <th></th>\n",
       "      <th></th>\n",
       "      <th></th>\n",
       "      <th></th>\n",
       "      <th></th>\n",
       "      <th></th>\n",
       "      <th></th>\n",
       "      <th></th>\n",
       "      <th></th>\n",
       "      <th></th>\n",
       "      <th></th>\n",
       "      <th></th>\n",
       "      <th></th>\n",
       "      <th></th>\n",
       "      <th></th>\n",
       "      <th></th>\n",
       "      <th></th>\n",
       "      <th></th>\n",
       "      <th></th>\n",
       "      <th></th>\n",
       "      <th></th>\n",
       "      <th></th>\n",
       "      <th></th>\n",
       "      <th></th>\n",
       "      <th></th>\n",
       "      <th></th>\n",
       "      <th></th>\n",
       "      <th></th>\n",
       "      <th></th>\n",
       "      <th></th>\n",
       "      <th></th>\n",
       "      <th></th>\n",
       "      <th></th>\n",
       "      <th></th>\n",
       "      <th></th>\n",
       "      <th></th>\n",
       "      <th></th>\n",
       "      <th></th>\n",
       "      <th></th>\n",
       "      <th></th>\n",
       "      <th></th>\n",
       "      <th></th>\n",
       "      <th></th>\n",
       "      <th></th>\n",
       "      <th></th>\n",
       "      <th></th>\n",
       "      <th></th>\n",
       "      <th></th>\n",
       "      <th></th>\n",
       "      <th></th>\n",
       "      <th></th>\n",
       "      <th></th>\n",
       "      <th></th>\n",
       "      <th></th>\n",
       "      <th></th>\n",
       "      <th></th>\n",
       "      <th></th>\n",
       "      <th></th>\n",
       "      <th></th>\n",
       "    </tr>\n",
       "  </thead>\n",
       "  <tbody>\n",
       "    <tr>\n",
       "      <th>536527</th>\n",
       "      <td>0</td>\n",
       "      <td>0</td>\n",
       "      <td>0</td>\n",
       "      <td>0</td>\n",
       "      <td>0</td>\n",
       "      <td>0</td>\n",
       "      <td>0</td>\n",
       "      <td>0</td>\n",
       "      <td>0</td>\n",
       "      <td>0</td>\n",
       "      <td>0</td>\n",
       "      <td>0</td>\n",
       "      <td>0</td>\n",
       "      <td>0</td>\n",
       "      <td>0</td>\n",
       "      <td>0</td>\n",
       "      <td>0</td>\n",
       "      <td>0</td>\n",
       "      <td>0</td>\n",
       "      <td>0</td>\n",
       "      <td>1</td>\n",
       "      <td>0</td>\n",
       "      <td>0</td>\n",
       "      <td>0</td>\n",
       "      <td>0</td>\n",
       "      <td>0</td>\n",
       "      <td>0</td>\n",
       "      <td>0</td>\n",
       "      <td>0</td>\n",
       "      <td>0</td>\n",
       "      <td>0</td>\n",
       "      <td>0</td>\n",
       "      <td>0</td>\n",
       "      <td>0</td>\n",
       "      <td>0</td>\n",
       "      <td>0</td>\n",
       "      <td>0</td>\n",
       "      <td>0</td>\n",
       "      <td>0</td>\n",
       "      <td>0</td>\n",
       "      <td>...</td>\n",
       "      <td>0</td>\n",
       "      <td>0</td>\n",
       "      <td>0</td>\n",
       "      <td>0</td>\n",
       "      <td>0</td>\n",
       "      <td>0</td>\n",
       "      <td>0</td>\n",
       "      <td>0</td>\n",
       "      <td>0</td>\n",
       "      <td>0</td>\n",
       "      <td>0</td>\n",
       "      <td>0</td>\n",
       "      <td>0</td>\n",
       "      <td>0</td>\n",
       "      <td>0</td>\n",
       "      <td>0</td>\n",
       "      <td>0</td>\n",
       "      <td>0</td>\n",
       "      <td>0</td>\n",
       "      <td>0</td>\n",
       "      <td>0</td>\n",
       "      <td>0</td>\n",
       "      <td>0</td>\n",
       "      <td>0</td>\n",
       "      <td>0</td>\n",
       "      <td>0</td>\n",
       "      <td>0</td>\n",
       "      <td>0</td>\n",
       "      <td>0</td>\n",
       "      <td>0</td>\n",
       "      <td>0</td>\n",
       "      <td>0</td>\n",
       "      <td>0</td>\n",
       "      <td>0</td>\n",
       "      <td>0</td>\n",
       "      <td>0</td>\n",
       "      <td>0</td>\n",
       "      <td>0</td>\n",
       "      <td>0</td>\n",
       "      <td>0</td>\n",
       "    </tr>\n",
       "    <tr>\n",
       "      <th>536840</th>\n",
       "      <td>0</td>\n",
       "      <td>0</td>\n",
       "      <td>0</td>\n",
       "      <td>0</td>\n",
       "      <td>0</td>\n",
       "      <td>0</td>\n",
       "      <td>0</td>\n",
       "      <td>0</td>\n",
       "      <td>0</td>\n",
       "      <td>0</td>\n",
       "      <td>0</td>\n",
       "      <td>0</td>\n",
       "      <td>0</td>\n",
       "      <td>0</td>\n",
       "      <td>0</td>\n",
       "      <td>0</td>\n",
       "      <td>0</td>\n",
       "      <td>0</td>\n",
       "      <td>0</td>\n",
       "      <td>0</td>\n",
       "      <td>0</td>\n",
       "      <td>0</td>\n",
       "      <td>0</td>\n",
       "      <td>0</td>\n",
       "      <td>0</td>\n",
       "      <td>0</td>\n",
       "      <td>0</td>\n",
       "      <td>0</td>\n",
       "      <td>0</td>\n",
       "      <td>0</td>\n",
       "      <td>0</td>\n",
       "      <td>0</td>\n",
       "      <td>0</td>\n",
       "      <td>0</td>\n",
       "      <td>0</td>\n",
       "      <td>0</td>\n",
       "      <td>0</td>\n",
       "      <td>0</td>\n",
       "      <td>0</td>\n",
       "      <td>0</td>\n",
       "      <td>...</td>\n",
       "      <td>0</td>\n",
       "      <td>0</td>\n",
       "      <td>0</td>\n",
       "      <td>0</td>\n",
       "      <td>0</td>\n",
       "      <td>0</td>\n",
       "      <td>0</td>\n",
       "      <td>0</td>\n",
       "      <td>0</td>\n",
       "      <td>0</td>\n",
       "      <td>0</td>\n",
       "      <td>0</td>\n",
       "      <td>0</td>\n",
       "      <td>0</td>\n",
       "      <td>0</td>\n",
       "      <td>0</td>\n",
       "      <td>0</td>\n",
       "      <td>0</td>\n",
       "      <td>0</td>\n",
       "      <td>0</td>\n",
       "      <td>0</td>\n",
       "      <td>0</td>\n",
       "      <td>0</td>\n",
       "      <td>0</td>\n",
       "      <td>0</td>\n",
       "      <td>0</td>\n",
       "      <td>0</td>\n",
       "      <td>0</td>\n",
       "      <td>0</td>\n",
       "      <td>0</td>\n",
       "      <td>0</td>\n",
       "      <td>0</td>\n",
       "      <td>0</td>\n",
       "      <td>0</td>\n",
       "      <td>0</td>\n",
       "      <td>0</td>\n",
       "      <td>0</td>\n",
       "      <td>0</td>\n",
       "      <td>0</td>\n",
       "      <td>0</td>\n",
       "    </tr>\n",
       "    <tr>\n",
       "      <th>536861</th>\n",
       "      <td>0</td>\n",
       "      <td>0</td>\n",
       "      <td>0</td>\n",
       "      <td>0</td>\n",
       "      <td>0</td>\n",
       "      <td>0</td>\n",
       "      <td>0</td>\n",
       "      <td>0</td>\n",
       "      <td>0</td>\n",
       "      <td>0</td>\n",
       "      <td>0</td>\n",
       "      <td>0</td>\n",
       "      <td>0</td>\n",
       "      <td>0</td>\n",
       "      <td>0</td>\n",
       "      <td>0</td>\n",
       "      <td>0</td>\n",
       "      <td>0</td>\n",
       "      <td>0</td>\n",
       "      <td>0</td>\n",
       "      <td>0</td>\n",
       "      <td>0</td>\n",
       "      <td>0</td>\n",
       "      <td>0</td>\n",
       "      <td>0</td>\n",
       "      <td>0</td>\n",
       "      <td>0</td>\n",
       "      <td>0</td>\n",
       "      <td>0</td>\n",
       "      <td>0</td>\n",
       "      <td>0</td>\n",
       "      <td>0</td>\n",
       "      <td>0</td>\n",
       "      <td>0</td>\n",
       "      <td>0</td>\n",
       "      <td>0</td>\n",
       "      <td>0</td>\n",
       "      <td>0</td>\n",
       "      <td>0</td>\n",
       "      <td>0</td>\n",
       "      <td>...</td>\n",
       "      <td>0</td>\n",
       "      <td>0</td>\n",
       "      <td>0</td>\n",
       "      <td>0</td>\n",
       "      <td>0</td>\n",
       "      <td>0</td>\n",
       "      <td>0</td>\n",
       "      <td>0</td>\n",
       "      <td>0</td>\n",
       "      <td>0</td>\n",
       "      <td>0</td>\n",
       "      <td>0</td>\n",
       "      <td>0</td>\n",
       "      <td>0</td>\n",
       "      <td>0</td>\n",
       "      <td>0</td>\n",
       "      <td>0</td>\n",
       "      <td>0</td>\n",
       "      <td>0</td>\n",
       "      <td>0</td>\n",
       "      <td>0</td>\n",
       "      <td>0</td>\n",
       "      <td>0</td>\n",
       "      <td>0</td>\n",
       "      <td>0</td>\n",
       "      <td>0</td>\n",
       "      <td>0</td>\n",
       "      <td>0</td>\n",
       "      <td>0</td>\n",
       "      <td>0</td>\n",
       "      <td>0</td>\n",
       "      <td>0</td>\n",
       "      <td>0</td>\n",
       "      <td>0</td>\n",
       "      <td>0</td>\n",
       "      <td>0</td>\n",
       "      <td>0</td>\n",
       "      <td>0</td>\n",
       "      <td>0</td>\n",
       "      <td>0</td>\n",
       "    </tr>\n",
       "    <tr>\n",
       "      <th>536967</th>\n",
       "      <td>0</td>\n",
       "      <td>0</td>\n",
       "      <td>0</td>\n",
       "      <td>0</td>\n",
       "      <td>0</td>\n",
       "      <td>0</td>\n",
       "      <td>0</td>\n",
       "      <td>0</td>\n",
       "      <td>0</td>\n",
       "      <td>0</td>\n",
       "      <td>0</td>\n",
       "      <td>0</td>\n",
       "      <td>0</td>\n",
       "      <td>0</td>\n",
       "      <td>0</td>\n",
       "      <td>0</td>\n",
       "      <td>0</td>\n",
       "      <td>0</td>\n",
       "      <td>0</td>\n",
       "      <td>0</td>\n",
       "      <td>0</td>\n",
       "      <td>0</td>\n",
       "      <td>0</td>\n",
       "      <td>0</td>\n",
       "      <td>0</td>\n",
       "      <td>0</td>\n",
       "      <td>0</td>\n",
       "      <td>0</td>\n",
       "      <td>0</td>\n",
       "      <td>0</td>\n",
       "      <td>0</td>\n",
       "      <td>0</td>\n",
       "      <td>0</td>\n",
       "      <td>0</td>\n",
       "      <td>0</td>\n",
       "      <td>0</td>\n",
       "      <td>0</td>\n",
       "      <td>0</td>\n",
       "      <td>0</td>\n",
       "      <td>0</td>\n",
       "      <td>...</td>\n",
       "      <td>0</td>\n",
       "      <td>0</td>\n",
       "      <td>0</td>\n",
       "      <td>0</td>\n",
       "      <td>0</td>\n",
       "      <td>0</td>\n",
       "      <td>0</td>\n",
       "      <td>0</td>\n",
       "      <td>0</td>\n",
       "      <td>0</td>\n",
       "      <td>0</td>\n",
       "      <td>0</td>\n",
       "      <td>0</td>\n",
       "      <td>0</td>\n",
       "      <td>0</td>\n",
       "      <td>0</td>\n",
       "      <td>0</td>\n",
       "      <td>0</td>\n",
       "      <td>0</td>\n",
       "      <td>0</td>\n",
       "      <td>0</td>\n",
       "      <td>0</td>\n",
       "      <td>0</td>\n",
       "      <td>0</td>\n",
       "      <td>0</td>\n",
       "      <td>0</td>\n",
       "      <td>0</td>\n",
       "      <td>0</td>\n",
       "      <td>0</td>\n",
       "      <td>0</td>\n",
       "      <td>0</td>\n",
       "      <td>0</td>\n",
       "      <td>0</td>\n",
       "      <td>0</td>\n",
       "      <td>0</td>\n",
       "      <td>0</td>\n",
       "      <td>0</td>\n",
       "      <td>0</td>\n",
       "      <td>0</td>\n",
       "      <td>0</td>\n",
       "    </tr>\n",
       "    <tr>\n",
       "      <th>536983</th>\n",
       "      <td>0</td>\n",
       "      <td>0</td>\n",
       "      <td>0</td>\n",
       "      <td>0</td>\n",
       "      <td>0</td>\n",
       "      <td>0</td>\n",
       "      <td>0</td>\n",
       "      <td>0</td>\n",
       "      <td>0</td>\n",
       "      <td>0</td>\n",
       "      <td>0</td>\n",
       "      <td>0</td>\n",
       "      <td>0</td>\n",
       "      <td>0</td>\n",
       "      <td>0</td>\n",
       "      <td>0</td>\n",
       "      <td>0</td>\n",
       "      <td>0</td>\n",
       "      <td>0</td>\n",
       "      <td>0</td>\n",
       "      <td>0</td>\n",
       "      <td>1</td>\n",
       "      <td>0</td>\n",
       "      <td>0</td>\n",
       "      <td>0</td>\n",
       "      <td>0</td>\n",
       "      <td>0</td>\n",
       "      <td>0</td>\n",
       "      <td>0</td>\n",
       "      <td>0</td>\n",
       "      <td>0</td>\n",
       "      <td>0</td>\n",
       "      <td>0</td>\n",
       "      <td>0</td>\n",
       "      <td>0</td>\n",
       "      <td>0</td>\n",
       "      <td>0</td>\n",
       "      <td>0</td>\n",
       "      <td>0</td>\n",
       "      <td>0</td>\n",
       "      <td>...</td>\n",
       "      <td>0</td>\n",
       "      <td>0</td>\n",
       "      <td>0</td>\n",
       "      <td>0</td>\n",
       "      <td>0</td>\n",
       "      <td>0</td>\n",
       "      <td>0</td>\n",
       "      <td>0</td>\n",
       "      <td>0</td>\n",
       "      <td>0</td>\n",
       "      <td>0</td>\n",
       "      <td>0</td>\n",
       "      <td>0</td>\n",
       "      <td>0</td>\n",
       "      <td>0</td>\n",
       "      <td>0</td>\n",
       "      <td>0</td>\n",
       "      <td>0</td>\n",
       "      <td>0</td>\n",
       "      <td>0</td>\n",
       "      <td>0</td>\n",
       "      <td>0</td>\n",
       "      <td>0</td>\n",
       "      <td>0</td>\n",
       "      <td>0</td>\n",
       "      <td>0</td>\n",
       "      <td>0</td>\n",
       "      <td>0</td>\n",
       "      <td>0</td>\n",
       "      <td>0</td>\n",
       "      <td>0</td>\n",
       "      <td>0</td>\n",
       "      <td>0</td>\n",
       "      <td>0</td>\n",
       "      <td>0</td>\n",
       "      <td>0</td>\n",
       "      <td>0</td>\n",
       "      <td>0</td>\n",
       "      <td>0</td>\n",
       "      <td>0</td>\n",
       "    </tr>\n",
       "  </tbody>\n",
       "</table>\n",
       "<p>5 rows × 1695 columns</p>\n",
       "</div>"
      ],
      "text/plain": [
       "Description  10 COLOUR SPACEBOY PEN  ...  ZINC WILLIE WINKIE  CANDLE STICK\n",
       "InvoiceNo                            ...                                  \n",
       "536527                            0  ...                                 0\n",
       "536840                            0  ...                                 0\n",
       "536861                            0  ...                                 0\n",
       "536967                            0  ...                                 0\n",
       "536983                            0  ...                                 0\n",
       "\n",
       "[5 rows x 1695 columns]"
      ]
     },
     "execution_count": 15,
     "metadata": {
      "tags": []
     },
     "output_type": "execute_result"
    }
   ],
   "source": [
    "basket_Germany.head()"
   ]
  },
  {
   "cell_type": "code",
   "execution_count": 16,
   "metadata": {
    "executionInfo": {
     "elapsed": 74091,
     "status": "ok",
     "timestamp": 1605024190235,
     "user": {
      "displayName": "BECOB215_Chaitanya Nawale",
      "photoUrl": "https://lh3.googleusercontent.com/a-/AOh14GjhKqWv9qcStDLwkyGI6scR2kNaLpB8gZIEdb94Pa4=s64",
      "userId": "02869966683308518083"
     },
     "user_tz": -330
    },
    "id": "IxkPjLWqBkqE"
   },
   "outputs": [],
   "source": [
    "#model building - generating frequent itemsets\n",
    "freq_items = apriori(basket_Germany,min_support=0.1,use_colnames=True)"
   ]
  },
  {
   "cell_type": "code",
   "execution_count": 17,
   "metadata": {
    "colab": {
     "base_uri": "https://localhost:8080/",
     "height": 195
    },
    "executionInfo": {
     "elapsed": 74088,
     "status": "ok",
     "timestamp": 1605024190236,
     "user": {
      "displayName": "BECOB215_Chaitanya Nawale",
      "photoUrl": "https://lh3.googleusercontent.com/a-/AOh14GjhKqWv9qcStDLwkyGI6scR2kNaLpB8gZIEdb94Pa4=s64",
      "userId": "02869966683308518083"
     },
     "user_tz": -330
    },
    "id": "yTwtQOVCBkqH",
    "outputId": "9d44080e-7349-4d9c-87a5-f75f458c4b8e"
   },
   "outputs": [
    {
     "data": {
      "text/html": [
       "<div>\n",
       "<style scoped>\n",
       "    .dataframe tbody tr th:only-of-type {\n",
       "        vertical-align: middle;\n",
       "    }\n",
       "\n",
       "    .dataframe tbody tr th {\n",
       "        vertical-align: top;\n",
       "    }\n",
       "\n",
       "    .dataframe thead th {\n",
       "        text-align: right;\n",
       "    }\n",
       "</style>\n",
       "<table border=\"1\" class=\"dataframe\">\n",
       "  <thead>\n",
       "    <tr style=\"text-align: right;\">\n",
       "      <th></th>\n",
       "      <th>support</th>\n",
       "      <th>itemsets</th>\n",
       "    </tr>\n",
       "  </thead>\n",
       "  <tbody>\n",
       "    <tr>\n",
       "      <th>0</th>\n",
       "      <td>0.102845</td>\n",
       "      <td>(6 RIBBONS RUSTIC CHARM)</td>\n",
       "    </tr>\n",
       "    <tr>\n",
       "      <th>1</th>\n",
       "      <td>0.100656</td>\n",
       "      <td>(JUMBO BAG WOODLAND ANIMALS)</td>\n",
       "    </tr>\n",
       "    <tr>\n",
       "      <th>2</th>\n",
       "      <td>0.115974</td>\n",
       "      <td>(PLASTERS IN TIN CIRCUS PARADE)</td>\n",
       "    </tr>\n",
       "    <tr>\n",
       "      <th>3</th>\n",
       "      <td>0.107221</td>\n",
       "      <td>(PLASTERS IN TIN SPACEBOY)</td>\n",
       "    </tr>\n",
       "    <tr>\n",
       "      <th>4</th>\n",
       "      <td>0.137856</td>\n",
       "      <td>(PLASTERS IN TIN WOODLAND ANIMALS)</td>\n",
       "    </tr>\n",
       "  </tbody>\n",
       "</table>\n",
       "</div>"
      ],
      "text/plain": [
       "    support                            itemsets\n",
       "0  0.102845            (6 RIBBONS RUSTIC CHARM)\n",
       "1  0.100656        (JUMBO BAG WOODLAND ANIMALS)\n",
       "2  0.115974     (PLASTERS IN TIN CIRCUS PARADE)\n",
       "3  0.107221          (PLASTERS IN TIN SPACEBOY)\n",
       "4  0.137856  (PLASTERS IN TIN WOODLAND ANIMALS)"
      ]
     },
     "execution_count": 17,
     "metadata": {
      "tags": []
     },
     "output_type": "execute_result"
    }
   ],
   "source": [
    "freq_items.head()"
   ]
  },
  {
   "cell_type": "code",
   "execution_count": 18,
   "metadata": {
    "executionInfo": {
     "elapsed": 74087,
     "status": "ok",
     "timestamp": 1605024190237,
     "user": {
      "displayName": "BECOB215_Chaitanya Nawale",
      "photoUrl": "https://lh3.googleusercontent.com/a-/AOh14GjhKqWv9qcStDLwkyGI6scR2kNaLpB8gZIEdb94Pa4=s64",
      "userId": "02869966683308518083"
     },
     "user_tz": -330
    },
    "id": "M8FxqpjlBkqK"
   },
   "outputs": [],
   "source": [
    "#generating association rules\n",
    "rules = association_rules(freq_items,metric=\"lift\",min_threshold=1)\n",
    "rules = rules.sort_values(['confidence','lift'],ascending=[False,False])"
   ]
  },
  {
   "cell_type": "code",
   "execution_count": 19,
   "metadata": {
    "colab": {
     "base_uri": "https://localhost:8080/",
     "height": 195
    },
    "executionInfo": {
     "elapsed": 74084,
     "status": "ok",
     "timestamp": 1605024190238,
     "user": {
      "displayName": "BECOB215_Chaitanya Nawale",
      "photoUrl": "https://lh3.googleusercontent.com/a-/AOh14GjhKqWv9qcStDLwkyGI6scR2kNaLpB8gZIEdb94Pa4=s64",
      "userId": "02869966683308518083"
     },
     "user_tz": -330
    },
    "id": "Px45RJoNBkqN",
    "outputId": "cd68b528-35ca-4561-908d-c5532d00372b"
   },
   "outputs": [
    {
     "data": {
      "text/html": [
       "<div>\n",
       "<style scoped>\n",
       "    .dataframe tbody tr th:only-of-type {\n",
       "        vertical-align: middle;\n",
       "    }\n",
       "\n",
       "    .dataframe tbody tr th {\n",
       "        vertical-align: top;\n",
       "    }\n",
       "\n",
       "    .dataframe thead th {\n",
       "        text-align: right;\n",
       "    }\n",
       "</style>\n",
       "<table border=\"1\" class=\"dataframe\">\n",
       "  <thead>\n",
       "    <tr style=\"text-align: right;\">\n",
       "      <th></th>\n",
       "      <th>antecedents</th>\n",
       "      <th>consequents</th>\n",
       "      <th>antecedent support</th>\n",
       "      <th>consequent support</th>\n",
       "      <th>support</th>\n",
       "      <th>confidence</th>\n",
       "      <th>lift</th>\n",
       "      <th>leverage</th>\n",
       "      <th>conviction</th>\n",
       "    </tr>\n",
       "  </thead>\n",
       "  <tbody>\n",
       "    <tr>\n",
       "      <th>9</th>\n",
       "      <td>(ROUND SNACK BOXES SET OF 4 FRUITS)</td>\n",
       "      <td>(POSTAGE)</td>\n",
       "      <td>0.157549</td>\n",
       "      <td>0.818381</td>\n",
       "      <td>0.150985</td>\n",
       "      <td>0.958333</td>\n",
       "      <td>1.171012</td>\n",
       "      <td>0.022049</td>\n",
       "      <td>4.358862</td>\n",
       "    </tr>\n",
       "    <tr>\n",
       "      <th>18</th>\n",
       "      <td>(ROUND SNACK BOXES SET OF4 WOODLAND, ROUND SNA...</td>\n",
       "      <td>(POSTAGE)</td>\n",
       "      <td>0.131291</td>\n",
       "      <td>0.818381</td>\n",
       "      <td>0.124726</td>\n",
       "      <td>0.950000</td>\n",
       "      <td>1.160829</td>\n",
       "      <td>0.017280</td>\n",
       "      <td>3.632385</td>\n",
       "    </tr>\n",
       "    <tr>\n",
       "      <th>2</th>\n",
       "      <td>(PLASTERS IN TIN SPACEBOY)</td>\n",
       "      <td>(POSTAGE)</td>\n",
       "      <td>0.107221</td>\n",
       "      <td>0.818381</td>\n",
       "      <td>0.100656</td>\n",
       "      <td>0.938776</td>\n",
       "      <td>1.147113</td>\n",
       "      <td>0.012909</td>\n",
       "      <td>2.966448</td>\n",
       "    </tr>\n",
       "    <tr>\n",
       "      <th>11</th>\n",
       "      <td>(ROUND SNACK BOXES SET OF4 WOODLAND)</td>\n",
       "      <td>(POSTAGE)</td>\n",
       "      <td>0.245077</td>\n",
       "      <td>0.818381</td>\n",
       "      <td>0.225383</td>\n",
       "      <td>0.919643</td>\n",
       "      <td>1.123735</td>\n",
       "      <td>0.024817</td>\n",
       "      <td>2.260151</td>\n",
       "    </tr>\n",
       "    <tr>\n",
       "      <th>12</th>\n",
       "      <td>(WOODLAND CHARLOTTE BAG)</td>\n",
       "      <td>(POSTAGE)</td>\n",
       "      <td>0.126915</td>\n",
       "      <td>0.818381</td>\n",
       "      <td>0.115974</td>\n",
       "      <td>0.913793</td>\n",
       "      <td>1.116587</td>\n",
       "      <td>0.012109</td>\n",
       "      <td>2.106783</td>\n",
       "    </tr>\n",
       "  </tbody>\n",
       "</table>\n",
       "</div>"
      ],
      "text/plain": [
       "                                          antecedents  ... conviction\n",
       "9                 (ROUND SNACK BOXES SET OF 4 FRUITS)  ...   4.358862\n",
       "18  (ROUND SNACK BOXES SET OF4 WOODLAND, ROUND SNA...  ...   3.632385\n",
       "2                          (PLASTERS IN TIN SPACEBOY)  ...   2.966448\n",
       "11               (ROUND SNACK BOXES SET OF4 WOODLAND)  ...   2.260151\n",
       "12                           (WOODLAND CHARLOTTE BAG)  ...   2.106783\n",
       "\n",
       "[5 rows x 9 columns]"
      ]
     },
     "execution_count": 19,
     "metadata": {
      "tags": []
     },
     "output_type": "execute_result"
    }
   ],
   "source": [
    "rules.head()"
   ]
  },
  {
   "cell_type": "code",
   "execution_count": 20,
   "metadata": {
    "colab": {
     "base_uri": "https://localhost:8080/",
     "height": 309
    },
    "executionInfo": {
     "elapsed": 74081,
     "status": "ok",
     "timestamp": 1605024190240,
     "user": {
      "displayName": "BECOB215_Chaitanya Nawale",
      "photoUrl": "https://lh3.googleusercontent.com/a-/AOh14GjhKqWv9qcStDLwkyGI6scR2kNaLpB8gZIEdb94Pa4=s64",
      "userId": "02869966683308518083"
     },
     "user_tz": -330
    },
    "id": "mgQGzWApBkqQ",
    "outputId": "38adb12f-ef71-4f5d-ffb8-6b3f7e1cc382"
   },
   "outputs": [
    {
     "data": {
      "text/html": [
       "<div>\n",
       "<style scoped>\n",
       "    .dataframe tbody tr th:only-of-type {\n",
       "        vertical-align: middle;\n",
       "    }\n",
       "\n",
       "    .dataframe tbody tr th {\n",
       "        vertical-align: top;\n",
       "    }\n",
       "\n",
       "    .dataframe thead th {\n",
       "        text-align: right;\n",
       "    }\n",
       "</style>\n",
       "<table border=\"1\" class=\"dataframe\">\n",
       "  <thead>\n",
       "    <tr style=\"text-align: right;\">\n",
       "      <th></th>\n",
       "      <th>antecedents</th>\n",
       "      <th>consequents</th>\n",
       "      <th>antecedent support</th>\n",
       "      <th>consequent support</th>\n",
       "      <th>support</th>\n",
       "      <th>confidence</th>\n",
       "      <th>lift</th>\n",
       "      <th>leverage</th>\n",
       "      <th>conviction</th>\n",
       "    </tr>\n",
       "  </thead>\n",
       "  <tbody>\n",
       "    <tr>\n",
       "      <th>15</th>\n",
       "      <td>(ROUND SNACK BOXES SET OF 4 FRUITS)</td>\n",
       "      <td>(ROUND SNACK BOXES SET OF4 WOODLAND)</td>\n",
       "      <td>0.157549</td>\n",
       "      <td>0.245077</td>\n",
       "      <td>0.131291</td>\n",
       "      <td>0.833333</td>\n",
       "      <td>3.400298</td>\n",
       "      <td>0.092679</td>\n",
       "      <td>4.529540</td>\n",
       "    </tr>\n",
       "    <tr>\n",
       "      <th>17</th>\n",
       "      <td>(POSTAGE, ROUND SNACK BOXES SET OF 4 FRUITS)</td>\n",
       "      <td>(ROUND SNACK BOXES SET OF4 WOODLAND)</td>\n",
       "      <td>0.150985</td>\n",
       "      <td>0.245077</td>\n",
       "      <td>0.124726</td>\n",
       "      <td>0.826087</td>\n",
       "      <td>3.370730</td>\n",
       "      <td>0.087724</td>\n",
       "      <td>4.340810</td>\n",
       "    </tr>\n",
       "    <tr>\n",
       "      <th>21</th>\n",
       "      <td>(ROUND SNACK BOXES SET OF 4 FRUITS)</td>\n",
       "      <td>(POSTAGE, ROUND SNACK BOXES SET OF4 WOODLAND)</td>\n",
       "      <td>0.157549</td>\n",
       "      <td>0.225383</td>\n",
       "      <td>0.124726</td>\n",
       "      <td>0.791667</td>\n",
       "      <td>3.512540</td>\n",
       "      <td>0.089218</td>\n",
       "      <td>3.718162</td>\n",
       "    </tr>\n",
       "    <tr>\n",
       "      <th>16</th>\n",
       "      <td>(POSTAGE, ROUND SNACK BOXES SET OF4 WOODLAND)</td>\n",
       "      <td>(ROUND SNACK BOXES SET OF 4 FRUITS)</td>\n",
       "      <td>0.225383</td>\n",
       "      <td>0.157549</td>\n",
       "      <td>0.124726</td>\n",
       "      <td>0.553398</td>\n",
       "      <td>3.512540</td>\n",
       "      <td>0.089218</td>\n",
       "      <td>1.886357</td>\n",
       "    </tr>\n",
       "    <tr>\n",
       "      <th>14</th>\n",
       "      <td>(ROUND SNACK BOXES SET OF4 WOODLAND)</td>\n",
       "      <td>(ROUND SNACK BOXES SET OF 4 FRUITS)</td>\n",
       "      <td>0.245077</td>\n",
       "      <td>0.157549</td>\n",
       "      <td>0.131291</td>\n",
       "      <td>0.535714</td>\n",
       "      <td>3.400298</td>\n",
       "      <td>0.092679</td>\n",
       "      <td>1.814509</td>\n",
       "    </tr>\n",
       "    <tr>\n",
       "      <th>20</th>\n",
       "      <td>(ROUND SNACK BOXES SET OF4 WOODLAND)</td>\n",
       "      <td>(POSTAGE, ROUND SNACK BOXES SET OF 4 FRUITS)</td>\n",
       "      <td>0.245077</td>\n",
       "      <td>0.150985</td>\n",
       "      <td>0.124726</td>\n",
       "      <td>0.508929</td>\n",
       "      <td>3.370730</td>\n",
       "      <td>0.087724</td>\n",
       "      <td>1.728904</td>\n",
       "    </tr>\n",
       "  </tbody>\n",
       "</table>\n",
       "</div>"
      ],
      "text/plain": [
       "                                      antecedents  ... conviction\n",
       "15            (ROUND SNACK BOXES SET OF 4 FRUITS)  ...   4.529540\n",
       "17   (POSTAGE, ROUND SNACK BOXES SET OF 4 FRUITS)  ...   4.340810\n",
       "21            (ROUND SNACK BOXES SET OF 4 FRUITS)  ...   3.718162\n",
       "16  (POSTAGE, ROUND SNACK BOXES SET OF4 WOODLAND)  ...   1.886357\n",
       "14           (ROUND SNACK BOXES SET OF4 WOODLAND)  ...   1.814509\n",
       "20           (ROUND SNACK BOXES SET OF4 WOODLAND)  ...   1.728904\n",
       "\n",
       "[6 rows x 9 columns]"
      ]
     },
     "execution_count": 20,
     "metadata": {
      "tags": []
     },
     "output_type": "execute_result"
    }
   ],
   "source": [
    "#extracting rules based on condition\n",
    "rules[(rules['lift']>=2)&(rules['confidence']>=0.3)]"
   ]
  }
 ],
 "metadata": {
  "colab": {
   "collapsed_sections": [],
   "name": "Apriori Algorithm For Market Basket Analysiss.ipynb",
   "provenance": [
    {
     "file_id": "1gFlrQUL8xdnku95XaNP7W8uQ9flBJ2q9",
     "timestamp": 1599718874434
    },
    {
     "file_id": "1y_VANPzgEv86vnREjwrq63OD5jso5kQG",
     "timestamp": 1599717180385
    },
    {
     "file_id": "1vrSS6orBjAne-_6r6ZA0dD2rYt47pzgu",
     "timestamp": 1599675239579
    }
   ]
  },
  "kernelspec": {
   "display_name": "Python 3",
   "language": "python",
   "name": "python3"
  },
  "language_info": {
   "codemirror_mode": {
    "name": "ipython",
    "version": 3
   },
   "file_extension": ".py",
   "mimetype": "text/x-python",
   "name": "python",
   "nbconvert_exporter": "python",
   "pygments_lexer": "ipython3",
   "version": "3.8.2"
  }
 },
 "nbformat": 4,
 "nbformat_minor": 0
}
