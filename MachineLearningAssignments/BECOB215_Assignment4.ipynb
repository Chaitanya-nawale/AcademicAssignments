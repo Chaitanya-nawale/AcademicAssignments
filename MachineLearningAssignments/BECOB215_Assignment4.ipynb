{
  "nbformat": 4,
  "nbformat_minor": 0,
  "metadata": {
    "colab": {
      "name": "BECOB215_Assignment4.ipynb",
      "provenance": []
    },
    "kernelspec": {
      "name": "python3",
      "display_name": "Python 3"
    },
    "language_info": {
      "name": "python"
    }
  },
  "cells": [
    {
      "cell_type": "markdown",
      "metadata": {
        "id": "ATJxASFATx1Q"
      },
      "source": [
        "<pre>Name       : Chaitanya Nawale\n",
        "Roll no.   : BECOB215\n",
        "Assignment : Decision Tree</pre>"
      ]
    },
    {
      "cell_type": "code",
      "metadata": {
        "id": "KsT_GViSKkYE"
      },
      "source": [
        "import numpy as np\n",
        "import pandas as pd\n",
        "from sklearn.preprocessing import LabelEncoder"
      ],
      "execution_count": null,
      "outputs": []
    },
    {
      "cell_type": "code",
      "metadata": {
        "id": "XL23Bx35NTt8"
      },
      "source": [
        "dataset = pd.read_csv(\"Dt.csv\")\n",
        "X = dataset.iloc[:,:-1]\n",
        "y = dataset.iloc[:,4].values"
      ],
      "execution_count": null,
      "outputs": []
    },
    {
      "cell_type": "code",
      "metadata": {
        "colab": {
          "base_uri": "https://localhost:8080/",
          "height": 488
        },
        "id": "SoTxUVuoN4fE",
        "outputId": "6575dfef-1b5e-4b2d-9eed-c1c7fad0cc7c"
      },
      "source": [
        "X"
      ],
      "execution_count": null,
      "outputs": [
        {
          "output_type": "execute_result",
          "data": {
            "text/html": [
              "<div>\n",
              "<style scoped>\n",
              "    .dataframe tbody tr th:only-of-type {\n",
              "        vertical-align: middle;\n",
              "    }\n",
              "\n",
              "    .dataframe tbody tr th {\n",
              "        vertical-align: top;\n",
              "    }\n",
              "\n",
              "    .dataframe thead th {\n",
              "        text-align: right;\n",
              "    }\n",
              "</style>\n",
              "<table border=\"1\" class=\"dataframe\">\n",
              "  <thead>\n",
              "    <tr style=\"text-align: right;\">\n",
              "      <th></th>\n",
              "      <th>Age</th>\n",
              "      <th>Income</th>\n",
              "      <th>Gender</th>\n",
              "      <th>Marital Status</th>\n",
              "    </tr>\n",
              "  </thead>\n",
              "  <tbody>\n",
              "    <tr>\n",
              "      <th>0</th>\n",
              "      <td>&lt;21</td>\n",
              "      <td>High</td>\n",
              "      <td>Male</td>\n",
              "      <td>Single</td>\n",
              "    </tr>\n",
              "    <tr>\n",
              "      <th>1</th>\n",
              "      <td>&lt;21</td>\n",
              "      <td>High</td>\n",
              "      <td>Male</td>\n",
              "      <td>Married</td>\n",
              "    </tr>\n",
              "    <tr>\n",
              "      <th>2</th>\n",
              "      <td>21-35</td>\n",
              "      <td>High</td>\n",
              "      <td>Male</td>\n",
              "      <td>Single</td>\n",
              "    </tr>\n",
              "    <tr>\n",
              "      <th>3</th>\n",
              "      <td>&gt;35</td>\n",
              "      <td>Medium</td>\n",
              "      <td>Male</td>\n",
              "      <td>Single</td>\n",
              "    </tr>\n",
              "    <tr>\n",
              "      <th>4</th>\n",
              "      <td>&gt;35</td>\n",
              "      <td>Low</td>\n",
              "      <td>Female</td>\n",
              "      <td>Single</td>\n",
              "    </tr>\n",
              "    <tr>\n",
              "      <th>5</th>\n",
              "      <td>&gt;35</td>\n",
              "      <td>Low</td>\n",
              "      <td>Female</td>\n",
              "      <td>Married</td>\n",
              "    </tr>\n",
              "    <tr>\n",
              "      <th>6</th>\n",
              "      <td>21-35</td>\n",
              "      <td>Low</td>\n",
              "      <td>Female</td>\n",
              "      <td>Married</td>\n",
              "    </tr>\n",
              "    <tr>\n",
              "      <th>7</th>\n",
              "      <td>&lt;21</td>\n",
              "      <td>Medium</td>\n",
              "      <td>Male</td>\n",
              "      <td>Single</td>\n",
              "    </tr>\n",
              "    <tr>\n",
              "      <th>8</th>\n",
              "      <td>&lt;21</td>\n",
              "      <td>Low</td>\n",
              "      <td>Female</td>\n",
              "      <td>Married</td>\n",
              "    </tr>\n",
              "    <tr>\n",
              "      <th>9</th>\n",
              "      <td>&gt;35</td>\n",
              "      <td>Medium</td>\n",
              "      <td>Female</td>\n",
              "      <td>Single</td>\n",
              "    </tr>\n",
              "    <tr>\n",
              "      <th>10</th>\n",
              "      <td>&lt;21</td>\n",
              "      <td>Medium</td>\n",
              "      <td>Female</td>\n",
              "      <td>Married</td>\n",
              "    </tr>\n",
              "    <tr>\n",
              "      <th>11</th>\n",
              "      <td>21-35</td>\n",
              "      <td>Medium</td>\n",
              "      <td>Male</td>\n",
              "      <td>Married</td>\n",
              "    </tr>\n",
              "    <tr>\n",
              "      <th>12</th>\n",
              "      <td>21-35</td>\n",
              "      <td>High</td>\n",
              "      <td>Female</td>\n",
              "      <td>Single</td>\n",
              "    </tr>\n",
              "    <tr>\n",
              "      <th>13</th>\n",
              "      <td>&gt;35</td>\n",
              "      <td>Medium</td>\n",
              "      <td>Male</td>\n",
              "      <td>Married</td>\n",
              "    </tr>\n",
              "  </tbody>\n",
              "</table>\n",
              "</div>"
            ],
            "text/plain": [
              "      Age  Income  Gender Marital Status\n",
              "0     <21    High    Male         Single\n",
              "1     <21    High    Male        Married\n",
              "2   21-35    High    Male         Single\n",
              "3     >35  Medium    Male         Single\n",
              "4     >35     Low  Female         Single\n",
              "5     >35     Low  Female        Married\n",
              "6   21-35     Low  Female        Married\n",
              "7     <21  Medium    Male         Single\n",
              "8     <21     Low  Female        Married\n",
              "9     >35  Medium  Female         Single\n",
              "10    <21  Medium  Female        Married\n",
              "11  21-35  Medium    Male        Married\n",
              "12  21-35    High  Female         Single\n",
              "13    >35  Medium    Male        Married"
            ]
          },
          "metadata": {
            "tags": []
          },
          "execution_count": 3
        }
      ]
    },
    {
      "cell_type": "code",
      "metadata": {
        "colab": {
          "base_uri": "https://localhost:8080/"
        },
        "id": "ZJE1skhHOTfM",
        "outputId": "640b808c-669d-41b3-dfe5-953b0f01a950"
      },
      "source": [
        "y"
      ],
      "execution_count": null,
      "outputs": [
        {
          "output_type": "execute_result",
          "data": {
            "text/plain": [
              "array(['No', 'No', 'Yes', 'Yes', 'Yes', 'No', 'Yes', 'No', 'Yes', 'Yes',\n",
              "       'Yes', 'Yes', 'Yes', 'No'], dtype=object)"
            ]
          },
          "metadata": {
            "tags": []
          },
          "execution_count": 4
        }
      ]
    },
    {
      "cell_type": "code",
      "metadata": {
        "colab": {
          "base_uri": "https://localhost:8080/"
        },
        "id": "OoEKIQlKOolM",
        "outputId": "753638dc-daeb-4770-9f09-d60626410f70"
      },
      "source": [
        "labelencoder_X = LabelEncoder()\n",
        "X = X.apply(LabelEncoder().fit_transform)\n",
        "print(X)"
      ],
      "execution_count": null,
      "outputs": [
        {
          "output_type": "stream",
          "text": [
            "    Age  Income  Gender  Marital Status\n",
            "0     1       0       1               1\n",
            "1     1       0       1               0\n",
            "2     0       0       1               1\n",
            "3     2       2       1               1\n",
            "4     2       1       0               1\n",
            "5     2       1       0               0\n",
            "6     0       1       0               0\n",
            "7     1       2       1               1\n",
            "8     1       1       0               0\n",
            "9     2       2       0               1\n",
            "10    1       2       0               0\n",
            "11    0       2       1               0\n",
            "12    0       0       0               1\n",
            "13    2       2       1               0\n"
          ],
          "name": "stdout"
        }
      ]
    },
    {
      "cell_type": "code",
      "metadata": {
        "colab": {
          "base_uri": "https://localhost:8080/"
        },
        "id": "Ll0ttIubPJZM",
        "outputId": "60f9f108-987e-4cc7-d7b9-fa636ccccd6f"
      },
      "source": [
        "from sklearn.tree import DecisionTreeClassifier\n",
        "dt = DecisionTreeClassifier()\n",
        "dt.fit(X,y)"
      ],
      "execution_count": null,
      "outputs": [
        {
          "output_type": "execute_result",
          "data": {
            "text/plain": [
              "DecisionTreeClassifier(ccp_alpha=0.0, class_weight=None, criterion='gini',\n",
              "                       max_depth=None, max_features=None, max_leaf_nodes=None,\n",
              "                       min_impurity_decrease=0.0, min_impurity_split=None,\n",
              "                       min_samples_leaf=1, min_samples_split=2,\n",
              "                       min_weight_fraction_leaf=0.0, presort='deprecated',\n",
              "                       random_state=None, splitter='best')"
            ]
          },
          "metadata": {
            "tags": []
          },
          "execution_count": 6
        }
      ]
    },
    {
      "cell_type": "code",
      "metadata": {
        "id": "FaO8-CQLP5u8"
      },
      "source": [
        "from sklearn.model_selection import cross_val_score\n",
        "dt_scores = cross_val_score(dt,X,y,cv=3)"
      ],
      "execution_count": null,
      "outputs": []
    },
    {
      "cell_type": "code",
      "metadata": {
        "colab": {
          "base_uri": "https://localhost:8080/"
        },
        "id": "vDT6yd88QUGc",
        "outputId": "743df5e2-3b3e-4953-8bc1-8b779e037f8a"
      },
      "source": [
        "dt_scores"
      ],
      "execution_count": null,
      "outputs": [
        {
          "output_type": "execute_result",
          "data": {
            "text/plain": [
              "array([0.8 , 0.6 , 0.75])"
            ]
          },
          "metadata": {
            "tags": []
          },
          "execution_count": 8
        }
      ]
    },
    {
      "cell_type": "code",
      "metadata": {
        "colab": {
          "base_uri": "https://localhost:8080/"
        },
        "id": "fv20hMsGQUDU",
        "outputId": "fce34cb8-00a4-4510-dfcb-cbc2a6ec7e82"
      },
      "source": [
        "dt_scores.mean()"
      ],
      "execution_count": null,
      "outputs": [
        {
          "output_type": "execute_result",
          "data": {
            "text/plain": [
              "0.7166666666666667"
            ]
          },
          "metadata": {
            "tags": []
          },
          "execution_count": 9
        }
      ]
    },
    {
      "cell_type": "code",
      "metadata": {
        "id": "h5jPsGDaQT-o"
      },
      "source": [
        "X_in = np.array([1,1,0,0])"
      ],
      "execution_count": null,
      "outputs": []
    },
    {
      "cell_type": "code",
      "metadata": {
        "colab": {
          "base_uri": "https://localhost:8080/"
        },
        "id": "Ntnm1ZUkQT20",
        "outputId": "c968c0b3-3327-43ce-c77e-fa1c6bd64802"
      },
      "source": [
        "y_pred = dt.predict([X_in])\n",
        "print(\"Prediction:\",y_pred)"
      ],
      "execution_count": null,
      "outputs": [
        {
          "output_type": "stream",
          "text": [
            "Prediction: ['Yes']\n"
          ],
          "name": "stdout"
        }
      ]
    },
    {
      "cell_type": "code",
      "metadata": {
        "colab": {
          "base_uri": "https://localhost:8080/"
        },
        "id": "fSQuHdThRUh4",
        "outputId": "e52f85c5-5e0e-4a1b-80b1-1f7ea89f2ce0"
      },
      "source": [
        "from sklearn.externals.six import StringIO\n",
        "from IPython.display import Image\n",
        "from sklearn.tree import export_graphviz\n",
        "import pydotplus "
      ],
      "execution_count": null,
      "outputs": [
        {
          "output_type": "stream",
          "text": [
            "/usr/local/lib/python3.7/dist-packages/sklearn/externals/six.py:31: FutureWarning: The module is deprecated in version 0.21 and will be removed in version 0.23 since we've dropped support for Python 2.7. Please rely on the official version of six (https://pypi.org/project/six/).\n",
            "  \"(https://pypi.org/project/six/).\", FutureWarning)\n"
          ],
          "name": "stderr"
        }
      ]
    },
    {
      "cell_type": "code",
      "metadata": {
        "colab": {
          "base_uri": "https://localhost:8080/"
        },
        "id": "-ZGF6fzJQTnM",
        "outputId": "9456f5d6-7faf-4826-cf8f-ebe091ee865d"
      },
      "source": [
        "dot_data = StringIO()\n",
        "export_graphviz(dt, out_file=dot_data, filled=True, rounded=True, special_characters=True)\n",
        "graph = pydotplus.graph_from_dot_data(dot_data.getvalue())\n",
        "graph.write_png('tree.png')"
      ],
      "execution_count": null,
      "outputs": [
        {
          "output_type": "execute_result",
          "data": {
            "text/plain": [
              "True"
            ]
          },
          "metadata": {
            "tags": []
          },
          "execution_count": 13
        }
      ]
    }
  ]
}