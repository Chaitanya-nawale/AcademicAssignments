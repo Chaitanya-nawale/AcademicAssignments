{
  "nbformat": 4,
  "nbformat_minor": 0,
  "metadata": {
    "colab": {
      "name": "ML_Assign3.ipynb",
      "provenance": [],
      "collapsed_sections": []
    },
    "kernelspec": {
      "name": "python3",
      "display_name": "Python 3"
    },
    "language_info": {
      "name": "python"
    }
  },
  "cells": [
    {
      "cell_type": "markdown",
      "metadata": {
        "id": "la9F8B6kCriT"
      },
      "source": [
        "<pre><b>Name         :  Chaitanya Machhindra Nawale\n",
        "Roll No.     :  BECOB215\n",
        "Assignment   :  Linear Regression<b></pre>"
      ]
    },
    {
      "cell_type": "code",
      "metadata": {
        "id": "IHphT5Y29k1B"
      },
      "source": [
        "#data \n",
        "x = [10,9,2,15,10,16,11,16]\n",
        "y = [95,80,10,50,45,98,38,93]\n"
      ],
      "execution_count": null,
      "outputs": []
    },
    {
      "cell_type": "code",
      "metadata": {
        "colab": {
          "base_uri": "https://localhost:8080/",
          "height": 282
        },
        "id": "kwfBiBPX-E-q",
        "outputId": "466c36e1-e5ed-47fe-afe1-b4e4c35538e4"
      },
      "source": [
        "#plot distribution\n",
        "import matplotlib.pyplot as plt\n",
        "plt.plot(x,y,'.')"
      ],
      "execution_count": null,
      "outputs": [
        {
          "output_type": "execute_result",
          "data": {
            "text/plain": [
              "[<matplotlib.lines.Line2D at 0x7f2717839310>]"
            ]
          },
          "metadata": {
            "tags": []
          },
          "execution_count": 2
        },
        {
          "output_type": "display_data",
          "data": {
            "image/png": "[encoded data removed]",
            "text/plain": [
              "<Figure size 432x288 with 1 Axes>"
            ]
          },
          "metadata": {
            "tags": [],
            "needs_background": "light"
          }
        }
      ]
    },
    {
      "cell_type": "code",
      "metadata": {
        "id": "470cpyPf-_xS"
      },
      "source": [
        "def estimate_coefficients(x,y):\n",
        "    import numpy as np\n",
        "    #number of observations\n",
        "    N = np.size(x)\n",
        "    \n",
        "    #calculate mean for both x and y\n",
        "    mean_x,mean_y = np.mean(x) , np.mean(y)\n",
        "    \n",
        "    #calculating cross-deviation and deviation about x\n",
        "    SS_xy = np.sum(y*x) - N * mean_y * mean_x\n",
        "    SS_xx = np.sum(x*x) - N * mean_x * mean_x\n",
        "    \n",
        "    #calulating regression coefficients\n",
        "    b_1 = SS_xy / SS_xx\n",
        "    b_0 = mean_y - b_1 * mean_x\n",
        "    \n",
        "    return (b_0,b_1)"
      ],
      "execution_count": null,
      "outputs": []
    },
    {
      "cell_type": "code",
      "metadata": {
        "id": "ZtspmGLg_cJV"
      },
      "source": [
        "def plot_regression_line(x, y, b): \n",
        "    # plotting the actual points as scatter plot \n",
        "    plt.scatter(x, y, color = \"m\", \n",
        "               marker = \"o\", s = 30) \n",
        "  \n",
        "    # predicted response vector \n",
        "    y_pred = b[0] + b[1]*x \n",
        "  \n",
        "    # plotting the regression line \n",
        "    plt.plot(x, y_pred, color = \"g\") \n",
        "  \n",
        "    # putting labels \n",
        "    plt.xlabel('x') \n",
        "    plt.ylabel('y') \n",
        "  \n",
        "    # function to show plot \n",
        "    plt.show() "
      ],
      "execution_count": null,
      "outputs": []
    },
    {
      "cell_type": "code",
      "metadata": {
        "colab": {
          "base_uri": "https://localhost:8080/",
          "height": 314
        },
        "id": "iZkLRg_7_q8r",
        "outputId": "5bc76b64-277f-4a1c-dd86-ff1e23e7373f"
      },
      "source": [
        "import numpy as np\n",
        "x = np.array([10,9,2,15,10,16,11,16])\n",
        "y=np.array([95,80,10,50,45,98,38,93])\n",
        "\n",
        "# estimating coefficients \n",
        "b = estimate_coefficients(x, y) \n",
        "print(\"Estimated coefficients:\\nb_0 = {} b_1 = {}\".format(b[0], b[1])) \n",
        "  \n",
        "# plotting regression line \n",
        "plot_regression_line(x, y, b) "
      ],
      "execution_count": null,
      "outputs": [
        {
          "output_type": "stream",
          "text": [
            "Estimated coefficients:\n",
            "b_0 = 12.584627964022893 b_1 = 4.58789860997547\n"
          ],
          "name": "stdout"
        },
        {
          "output_type": "display_data",
          "data": {
            "image/png": "[encoded data removed]",
            "text/plain": [
              "<Figure size 432x288 with 1 Axes>"
            ]
          },
          "metadata": {
            "tags": [],
            "needs_background": "light"
          }
        }
      ]
    },
    {
      "cell_type": "code",
      "metadata": {
        "id": "6plKAXfC_4qv"
      },
      "source": [
        "import pandas as pd\n",
        "import numpy as np\n",
        "import matplotlib.pyplot as plt\n",
        "from sklearn import datasets\n",
        "from sklearn.model_selection import train_test_split\n",
        "from sklearn.linear_model import LinearRegression"
      ],
      "execution_count": null,
      "outputs": []
    },
    {
      "cell_type": "code",
      "metadata": {
        "colab": {
          "base_uri": "https://localhost:8080/"
        },
        "id": "l4V-xu4DAAje",
        "outputId": "e0a425ef-3a1e-4d82-c8d1-ead60881fcfa"
      },
      "source": [
        "# Loading pre-defined Boston Dataset\n",
        "boston_dataset = datasets.load_boston()\n",
        "print(boston_dataset.DESCR)"
      ],
      "execution_count": null,
      "outputs": [
        {
          "output_type": "stream",
          "text": [
            ".. _boston_dataset:\n",
            "\n",
            "Boston house prices dataset\n",
            "---------------------------\n",
            "\n",
            "**Data Set Characteristics:**  \n",
            "\n",
            "    :Number of Instances: 506 \n",
            "\n",
            "    :Number of Attributes: 13 numeric/categorical predictive. Median Value (attribute 14) is usually the target.\n",
            "\n",
            "    :Attribute Information (in order):\n",
            "        - CRIM     per capita crime rate by town\n",
            "        - ZN       proportion of residential land zoned for lots over 25,000 sq.ft.\n",
            "        - INDUS    proportion of non-retail business acres per town\n",
            "        - CHAS     Charles River dummy variable (= 1 if tract bounds river; 0 otherwise)\n",
            "        - NOX      nitric oxides concentration (parts per 10 million)\n",
            "        - RM       average number of rooms per dwelling\n",
            "        - AGE      proportion of owner-occupied units built prior to 1940\n",
            "        - DIS      weighted distances to five Boston employment centres\n",
            "        - RAD      index of accessibility to radial highways\n",
            "        - TAX      full-value property-tax rate per $10,000\n",
            "        - PTRATIO  pupil-teacher ratio by town\n",
            "        - B        1000(Bk - 0.63)^2 where Bk is the proportion of blacks by town\n",
            "        - LSTAT    % lower status of the population\n",
            "        - MEDV     Median value of owner-occupied homes in $1000's\n",
            "\n",
            "    :Missing Attribute Values: None\n",
            "\n",
            "    :Creator: Harrison, D. and Rubinfeld, D.L.\n",
            "\n",
            "This is a copy of UCI ML housing dataset.\n",
            "https://archive.ics.uci.edu/ml/machine-learning-databases/housing/\n",
            "\n",
            "\n",
            "This dataset was taken from the StatLib library which is maintained at Carnegie Mellon University.\n",
            "\n",
            "The Boston house-price data of Harrison, D. and Rubinfeld, D.L. 'Hedonic\n",
            "prices and the demand for clean air', J. Environ. Economics & Management,\n",
            "vol.5, 81-102, 1978.   Used in Belsley, Kuh & Welsch, 'Regression diagnostics\n",
            "...', Wiley, 1980.   N.B. Various transformations are used in the table on\n",
            "pages 244-261 of the latter.\n",
            "\n",
            "The Boston house-price data has been used in many machine learning papers that address regression\n",
            "problems.   \n",
            "     \n",
            ".. topic:: References\n",
            "\n",
            "   - Belsley, Kuh & Welsch, 'Regression diagnostics: Identifying Influential Data and Sources of Collinearity', Wiley, 1980. 244-261.\n",
            "   - Quinlan,R. (1993). Combining Instance-Based and Model-Based Learning. In Proceedings on the Tenth International Conference of Machine Learning, 236-243, University of Massachusetts, Amherst. Morgan Kaufmann.\n",
            "\n"
          ],
          "name": "stdout"
        }
      ]
    },
    {
      "cell_type": "code",
      "metadata": {
        "colab": {
          "base_uri": "https://localhost:8080/"
        },
        "id": "nlNrqC0uAUb2",
        "outputId": "96d0e241-1ee3-444b-c717-b1b6a61e29b5"
      },
      "source": [
        "# Load the dataset into Pandas Dataframe\n",
        "boston_pd = pd.DataFrame(boston_dataset.data)\n",
        "boston_pd.columns = boston_dataset.feature_names\n",
        "boston_pd_target = np.asarray(boston_dataset.target)\n",
        "boston_pd['House Price'] = pd.Series(boston_pd_target)\n",
        " \n",
        "# input\n",
        "X = boston_pd.iloc[:, :-1]\n",
        " \n",
        "#output\n",
        "Y = boston_pd.iloc[:, -1]\n",
        " \n",
        "print(boston_pd.head())"
      ],
      "execution_count": null,
      "outputs": [
        {
          "output_type": "stream",
          "text": [
            "      CRIM    ZN  INDUS  CHAS  ...  PTRATIO       B  LSTAT  House Price\n",
            "0  0.00632  18.0   2.31   0.0  ...     15.3  396.90   4.98         24.0\n",
            "1  0.02731   0.0   7.07   0.0  ...     17.8  396.90   9.14         21.6\n",
            "2  0.02729   0.0   7.07   0.0  ...     17.8  392.83   4.03         34.7\n",
            "3  0.03237   0.0   2.18   0.0  ...     18.7  394.63   2.94         33.4\n",
            "4  0.06905   0.0   2.18   0.0  ...     18.7  396.90   5.33         36.2\n",
            "\n",
            "[5 rows x 14 columns]\n"
          ],
          "name": "stdout"
        }
      ]
    },
    {
      "cell_type": "code",
      "metadata": {
        "colab": {
          "base_uri": "https://localhost:8080/"
        },
        "id": "vQFyzz1HAY_H",
        "outputId": "4955816e-d896-443e-fc7e-9675ba5b8451"
      },
      "source": [
        "x_train, x_test, y_train, y_test = train_test_split(\n",
        "    boston_pd.iloc[:, :-1], boston_pd.iloc[:, -1],\n",
        "    test_size = 0.25)\n",
        " \n",
        "print(\"Train data shape of X = % s and Y = % s : \"%(\n",
        "    x_train.shape, y_train.shape))\n",
        " \n",
        "print(\"Test data shape of X = % s and Y = % s : \"%(\n",
        "    x_test.shape, y_test.shape))"
      ],
      "execution_count": null,
      "outputs": [
        {
          "output_type": "stream",
          "text": [
            "Train data shape of X = (379, 13) and Y = (379,) : \n",
            "Test data shape of X = (127, 13) and Y = (127,) : \n"
          ],
          "name": "stdout"
        }
      ]
    },
    {
      "cell_type": "code",
      "metadata": {
        "colab": {
          "base_uri": "https://localhost:8080/"
        },
        "id": "kVPKg6xdAqWN",
        "outputId": "3dd588a1-b9ce-4d29-e8d5-43f958190737"
      },
      "source": [
        "\n",
        "# Apply multiple Linear Regression Model\n",
        "lreg = LinearRegression()\n",
        "lreg.fit(x_train, y_train)\n",
        " \n",
        "# Generate Prediction on test set\n",
        "lreg_y_pred = lreg.predict(x_test)\n",
        " \n",
        "# calculating Mean Squared Error (mse)\n",
        "mean_squared_error = np.mean((lreg_y_pred - y_test)**2)\n",
        "print(\"Mean squared Error on test set : \", mean_squared_error)\n",
        " \n",
        "# Putting together the coefficient and their corresponding variable names\n",
        "lreg_coefficient = pd.DataFrame()\n",
        "lreg_coefficient[\"Columns\"] = x_train.columns\n",
        "lreg_coefficient['Coefficient Estimate'] = pd.Series(lreg.coef_)\n",
        "print(lreg_coefficient)"
      ],
      "execution_count": null,
      "outputs": [
        {
          "output_type": "stream",
          "text": [
            "Mean squared Error on test set :  28.079375854493122\n",
            "    Columns  Coefficient Estimate\n",
            "0      CRIM             -0.087599\n",
            "1        ZN              0.050808\n",
            "2     INDUS              0.035277\n",
            "3      CHAS              2.707916\n",
            "4       NOX            -16.834322\n",
            "5        RM              4.242470\n",
            "6       AGE              0.000304\n",
            "7       DIS             -1.394424\n",
            "8       RAD              0.246382\n",
            "9       TAX             -0.010339\n",
            "10  PTRATIO             -0.972590\n",
            "11        B              0.012189\n",
            "12    LSTAT             -0.471774\n"
          ],
          "name": "stdout"
        }
      ]
    },
    {
      "cell_type": "code",
      "metadata": {
        "colab": {
          "base_uri": "https://localhost:8080/",
          "height": 574
        },
        "id": "5VNw0EjeA_zl",
        "outputId": "e85c1d16-c5ee-4e6a-e533-08f3aeef6167"
      },
      "source": [
        "\n",
        "# plotting the coefficient score\n",
        "fig, ax = plt.subplots(figsize =(20, 10))\n",
        " \n",
        "ax.bar(lreg_coefficient[\"Columns\"],\n",
        "lreg_coefficient['Coefficient Estimate'],\n",
        "color = 'blue')\n",
        " \n",
        "ax.spines['bottom'].set_position('zero')\n",
        " \n",
        "plt.style.use('ggplot')\n",
        "plt.show()"
      ],
      "execution_count": null,
      "outputs": [
        {
          "output_type": "display_data",
          "data": {
            "image/png": "[encoded data removed]",
            "text/plain": [
              "<Figure size 1440x720 with 1 Axes>"
            ]
          },
          "metadata": {
            "tags": [],
            "needs_background": "light"
          }
        }
      ]
    },
    {
      "cell_type": "code",
      "metadata": {
        "colab": {
          "base_uri": "https://localhost:8080/"
        },
        "id": "MxKHt3WoBX0R",
        "outputId": "b7dcb7cd-028a-4225-d466-650fd1cb6241"
      },
      "source": [
        "#Ridge regression\n",
        "# import ridge regression from sklearn library\n",
        "from sklearn.linear_model import Ridge\n",
        " \n",
        "# Train the model\n",
        "ridgeR = Ridge(alpha = 1)\n",
        "ridgeR.fit(x_train, y_train)\n",
        "y_pred = ridgeR.predict(x_test)\n",
        " \n",
        "# calculate mean square error\n",
        "mean_squared_error_ridge = np.mean((y_pred - y_test)**2)\n",
        "print(mean_squared_error_ridge)\n",
        " \n",
        "# get ridge coefficient and print them\n",
        "ridge_coefficient = pd.DataFrame()\n",
        "ridge_coefficient[\"Columns\"]= x_train.columns\n",
        "ridge_coefficient['Coefficient Estimate'] = pd.Series(ridgeR.coef_)\n",
        "print(ridge_coefficient)"
      ],
      "execution_count": null,
      "outputs": [
        {
          "output_type": "stream",
          "text": [
            "28.443487391371548\n",
            "    Columns  Coefficient Estimate\n",
            "0      CRIM             -0.082356\n",
            "1        ZN              0.051347\n",
            "2     INDUS              0.004874\n",
            "3      CHAS              2.521705\n",
            "4       NOX             -8.942521\n",
            "5        RM              4.290056\n",
            "6       AGE             -0.006838\n",
            "7       DIS             -1.276036\n",
            "8       RAD              0.224309\n",
            "9       TAX             -0.010907\n",
            "10  PTRATIO             -0.889252\n",
            "11        B              0.012539\n",
            "12    LSTAT             -0.482607\n"
          ],
          "name": "stdout"
        }
      ]
    },
    {
      "cell_type": "code",
      "metadata": {
        "colab": {
          "base_uri": "https://localhost:8080/"
        },
        "id": "0np1cFKIBmuK",
        "outputId": "dd764ab9-fbbd-4eaa-a464-f88ed00aa3a0"
      },
      "source": [
        "#Lasso Regression\n",
        "# import Lasso regression from sklearn library\n",
        "from sklearn.linear_model import Lasso\n",
        " \n",
        "# Train the model\n",
        "lasso = Lasso(alpha = 1)\n",
        "lasso.fit(x_train, y_train)\n",
        "y_pred1 = lasso.predict(x_test)\n",
        " \n",
        "# Calculate Mean Squared Error\n",
        "mean_squared_error = np.mean((y_pred1 - y_test)**2)\n",
        "print(\"Mean squared error on test set\", mean_squared_error)\n",
        "lasso_coeff = pd.DataFrame()\n",
        "lasso_coeff[\"Columns\"] = x_train.columns\n",
        "lasso_coeff['Coefficient Estimate'] = pd.Series(lasso.coef_)\n",
        " \n",
        "print(lasso_coeff)"
      ],
      "execution_count": null,
      "outputs": [
        {
          "output_type": "stream",
          "text": [
            "Mean squared error on test set 31.70201662597946\n",
            "    Columns  Coefficient Estimate\n",
            "0      CRIM             -0.053518\n",
            "1        ZN              0.054940\n",
            "2     INDUS             -0.000000\n",
            "3      CHAS              0.000000\n",
            "4       NOX             -0.000000\n",
            "5        RM              1.111800\n",
            "6       AGE              0.026952\n",
            "7       DIS             -0.637336\n",
            "8       RAD              0.199252\n",
            "9       TAX             -0.011477\n",
            "10  PTRATIO             -0.771348\n",
            "11        B              0.009908\n",
            "12    LSTAT             -0.753869\n"
          ],
          "name": "stdout"
        }
      ]
    },
    {
      "cell_type": "code",
      "metadata": {
        "colab": {
          "base_uri": "https://localhost:8080/",
          "height": 455
        },
        "id": "STf2P4hqB9dc",
        "outputId": "6d14bd08-18d0-4510-bc07-03e47105e55d"
      },
      "source": [
        "#Lasso Regression\n",
        "from sklearn.linear_model import ElasticNet\n",
        " \n",
        "# Train the model\n",
        "e_net = ElasticNet(alpha = 1)\n",
        "e_net.fit(x_train, y_train)\n",
        " \n",
        "# calculate the prediction and mean square error\n",
        "y_pred_elastic = e_net.predict(x_test)\n",
        "mean_squared_error = np.mean((y_pred_elastic - y_test)**2)\n",
        "print(\"Mean Squared Error on test set\", mean_squared_error)\n",
        " \n",
        "e_net_coeff = pd.DataFrame()\n",
        "e_net_coeff[\"Columns\"] = x_train.columns\n",
        "e_net_coeff['Coefficient Estimate'] = pd.Series(e_net.coef_)\n",
        "e_net_coeff"
      ],
      "execution_count": null,
      "outputs": [
        {
          "output_type": "stream",
          "text": [
            "Mean Squared Error on test set 31.436358242371625\n"
          ],
          "name": "stdout"
        },
        {
          "output_type": "execute_result",
          "data": {
            "text/html": [
              "<div>\n",
              "<style scoped>\n",
              "    .dataframe tbody tr th:only-of-type {\n",
              "        vertical-align: middle;\n",
              "    }\n",
              "\n",
              "    .dataframe tbody tr th {\n",
              "        vertical-align: top;\n",
              "    }\n",
              "\n",
              "    .dataframe thead th {\n",
              "        text-align: right;\n",
              "    }\n",
              "</style>\n",
              "<table border=\"1\" class=\"dataframe\">\n",
              "  <thead>\n",
              "    <tr style=\"text-align: right;\">\n",
              "      <th></th>\n",
              "      <th>Columns</th>\n",
              "      <th>Coefficient Estimate</th>\n",
              "    </tr>\n",
              "  </thead>\n",
              "  <tbody>\n",
              "    <tr>\n",
              "      <th>0</th>\n",
              "      <td>CRIM</td>\n",
              "      <td>-0.068441</td>\n",
              "    </tr>\n",
              "    <tr>\n",
              "      <th>1</th>\n",
              "      <td>ZN</td>\n",
              "      <td>0.060964</td>\n",
              "    </tr>\n",
              "    <tr>\n",
              "      <th>2</th>\n",
              "      <td>INDUS</td>\n",
              "      <td>-0.000000</td>\n",
              "    </tr>\n",
              "    <tr>\n",
              "      <th>3</th>\n",
              "      <td>CHAS</td>\n",
              "      <td>0.000000</td>\n",
              "    </tr>\n",
              "    <tr>\n",
              "      <th>4</th>\n",
              "      <td>NOX</td>\n",
              "      <td>-0.000000</td>\n",
              "    </tr>\n",
              "    <tr>\n",
              "      <th>5</th>\n",
              "      <td>RM</td>\n",
              "      <td>0.986787</td>\n",
              "    </tr>\n",
              "    <tr>\n",
              "      <th>6</th>\n",
              "      <td>AGE</td>\n",
              "      <td>0.026864</td>\n",
              "    </tr>\n",
              "    <tr>\n",
              "      <th>7</th>\n",
              "      <td>DIS</td>\n",
              "      <td>-0.735480</td>\n",
              "    </tr>\n",
              "    <tr>\n",
              "      <th>8</th>\n",
              "      <td>RAD</td>\n",
              "      <td>0.242975</td>\n",
              "    </tr>\n",
              "    <tr>\n",
              "      <th>9</th>\n",
              "      <td>TAX</td>\n",
              "      <td>-0.013268</td>\n",
              "    </tr>\n",
              "    <tr>\n",
              "      <th>10</th>\n",
              "      <td>PTRATIO</td>\n",
              "      <td>-0.791348</td>\n",
              "    </tr>\n",
              "    <tr>\n",
              "      <th>11</th>\n",
              "      <td>B</td>\n",
              "      <td>0.009939</td>\n",
              "    </tr>\n",
              "    <tr>\n",
              "      <th>12</th>\n",
              "      <td>LSTAT</td>\n",
              "      <td>-0.762348</td>\n",
              "    </tr>\n",
              "  </tbody>\n",
              "</table>\n",
              "</div>"
            ],
            "text/plain": [
              "    Columns  Coefficient Estimate\n",
              "0      CRIM             -0.068441\n",
              "1        ZN              0.060964\n",
              "2     INDUS             -0.000000\n",
              "3      CHAS              0.000000\n",
              "4       NOX             -0.000000\n",
              "5        RM              0.986787\n",
              "6       AGE              0.026864\n",
              "7       DIS             -0.735480\n",
              "8       RAD              0.242975\n",
              "9       TAX             -0.013268\n",
              "10  PTRATIO             -0.791348\n",
              "11        B              0.009939\n",
              "12    LSTAT             -0.762348"
            ]
          },
          "metadata": {
            "tags": []
          },
          "execution_count": 14
        }
      ]
    }
  ]
}